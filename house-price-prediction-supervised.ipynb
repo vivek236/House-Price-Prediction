{
 "cells": [
  {
   "cell_type": "markdown",
   "id": "815b8155",
   "metadata": {
    "id": "VZP3PmQandty",
    "papermill": {
     "duration": 0.025835,
     "end_time": "2023-02-03T14:51:11.010022",
     "exception": false,
     "start_time": "2023-02-03T14:51:10.984187",
     "status": "completed"
    },
    "tags": []
   },
   "source": [
    "# Real Estate Valuation - Taiwan"
   ]
  },
  {
   "cell_type": "markdown",
   "id": "badf462c",
   "metadata": {
    "id": "S2mSRU4Dndt1",
    "papermill": {
     "duration": 0.024477,
     "end_time": "2023-02-03T14:51:11.058371",
     "exception": false,
     "start_time": "2023-02-03T14:51:11.033894",
     "status": "completed"
    },
    "tags": []
   },
   "source": [
    "The market historical data set of real estate valuation are collected from Sindian Dist., New Taipei City, Taiwan. "
   ]
  },
  {
   "cell_type": "markdown",
   "id": "d72cbaa8",
   "metadata": {
    "id": "ZrstVuCandt1",
    "papermill": {
     "duration": 0.023637,
     "end_time": "2023-02-03T14:51:11.106283",
     "exception": false,
     "start_time": "2023-02-03T14:51:11.082646",
     "status": "completed"
    },
    "tags": []
   },
   "source": [
    "## Goal of this notebook: \n",
    "The goal of this notebook is to predict the house price of unit area in Tawain (10000 New Taiwan Dollar/Ping, where Ping is a local unit, 1 Ping = 3.3 meter squared)."
   ]
  },
  {
   "cell_type": "markdown",
   "id": "1344dea2",
   "metadata": {
    "id": "CVt_ZrRAndt2",
    "papermill": {
     "duration": 0.023731,
     "end_time": "2023-02-03T14:51:11.153816",
     "exception": false,
     "start_time": "2023-02-03T14:51:11.130085",
     "status": "completed"
    },
    "tags": []
   },
   "source": [
    "## Source of dataset \n",
    "UCI Machine Learning Repository [click here.](https://archive.ics.uci.edu/ml/datasets/Real+estate+valuation+data+set)"
   ]
  },
  {
   "cell_type": "markdown",
   "id": "b200311d",
   "metadata": {
    "id": "MP0sjvoindt2",
    "papermill": {
     "duration": 0.023272,
     "end_time": "2023-02-03T14:51:11.200716",
     "exception": false,
     "start_time": "2023-02-03T14:51:11.177444",
     "status": "completed"
    },
    "tags": []
   },
   "source": [
    "## Attribute Information:\n",
    "The inputs are as follows:\n",
    "\n",
    "- X1=the transaction date (for example, 2013.250=2013 March, 2013.500=2013 June, etc.) \n",
    "- X2=the house age (unit: year) \n",
    "- X3=the distance to the nearest MRT station (unit: meter) \n",
    "- X4=the number of convenience stores in the living circle on foot (integer) \n",
    "- X5=the geographic coordinate, latitude. (unit: degree) \n",
    "- X6=the geographic coordinate, longitude. (unit: degree) \n",
    "\n",
    "The output is as follow:\n",
    "- Y= house price of unit area (10000 New Taiwan Dollar/Ping, where Ping is a local unit, 1 Ping = 3.3 meter squared) \n",
    "\n",
    "\n",
    "[Download dataset](https://drive.google.com/file/d/1uUOmUjoOgrJAooZUUzr4kR6zqiV0cmHw/view?usp=sharing()"
   ]
  },
  {
   "cell_type": "markdown",
   "id": "5ffa3547",
   "metadata": {
    "id": "kX6BIcWfndt3",
    "papermill": {
     "duration": 0.02402,
     "end_time": "2023-02-03T14:51:11.248685",
     "exception": false,
     "start_time": "2023-02-03T14:51:11.224665",
     "status": "completed"
    },
    "tags": []
   },
   "source": [
    "# 1. Import Dataset\n",
    "\n"
   ]
  },
  {
   "cell_type": "code",
   "execution_count": 1,
   "id": "5539c9e0",
   "metadata": {
    "execution": {
     "iopub.execute_input": "2023-02-03T14:51:11.298533Z",
     "iopub.status.busy": "2023-02-03T14:51:11.297878Z",
     "iopub.status.idle": "2023-02-03T14:51:11.312630Z",
     "shell.execute_reply": "2023-02-03T14:51:11.311422Z"
    },
    "id": "ChoM9hRbvBbp",
    "papermill": {
     "duration": 0.042893,
     "end_time": "2023-02-03T14:51:11.315426",
     "exception": false,
     "start_time": "2023-02-03T14:51:11.272533",
     "status": "completed"
    },
    "tags": []
   },
   "outputs": [],
   "source": [
    "#import package\n",
    "import pandas as pd\n",
    "import numpy as np"
   ]
  },
  {
   "cell_type": "code",
   "execution_count": 2,
   "id": "420ffc26",
   "metadata": {
    "execution": {
     "iopub.execute_input": "2023-02-03T14:51:11.367598Z",
     "iopub.status.busy": "2023-02-03T14:51:11.366526Z",
     "iopub.status.idle": "2023-02-03T14:51:11.416835Z",
     "shell.execute_reply": "2023-02-03T14:51:11.415597Z"
    },
    "id": "lV66Y_Qfndt4",
    "outputId": "ec51ca23-5149-48e1-ac97-7a937a1ec467",
    "papermill": {
     "duration": 0.080173,
     "end_time": "2023-02-03T14:51:11.420050",
     "exception": false,
     "start_time": "2023-02-03T14:51:11.339877",
     "status": "completed"
    },
    "tags": []
   },
   "outputs": [
    {
     "data": {
      "text/html": [
       "<div>\n",
       "<style scoped>\n",
       "    .dataframe tbody tr th:only-of-type {\n",
       "        vertical-align: middle;\n",
       "    }\n",
       "\n",
       "    .dataframe tbody tr th {\n",
       "        vertical-align: top;\n",
       "    }\n",
       "\n",
       "    .dataframe thead th {\n",
       "        text-align: right;\n",
       "    }\n",
       "</style>\n",
       "<table border=\"1\" class=\"dataframe\">\n",
       "  <thead>\n",
       "    <tr style=\"text-align: right;\">\n",
       "      <th></th>\n",
       "      <th>No</th>\n",
       "      <th>X1 transaction date</th>\n",
       "      <th>X2 house age</th>\n",
       "      <th>X3 distance to the nearest MRT station</th>\n",
       "      <th>X4 number of convenience stores</th>\n",
       "      <th>X5 latitude</th>\n",
       "      <th>X6 longitude</th>\n",
       "      <th>Y house price of unit area</th>\n",
       "    </tr>\n",
       "  </thead>\n",
       "  <tbody>\n",
       "    <tr>\n",
       "      <th>0</th>\n",
       "      <td>1</td>\n",
       "      <td>2012.917</td>\n",
       "      <td>32.0</td>\n",
       "      <td>84.87882</td>\n",
       "      <td>10</td>\n",
       "      <td>24.98298</td>\n",
       "      <td>121.54024</td>\n",
       "      <td>37.9</td>\n",
       "    </tr>\n",
       "    <tr>\n",
       "      <th>1</th>\n",
       "      <td>2</td>\n",
       "      <td>2012.917</td>\n",
       "      <td>19.5</td>\n",
       "      <td>306.59470</td>\n",
       "      <td>9</td>\n",
       "      <td>24.98034</td>\n",
       "      <td>121.53951</td>\n",
       "      <td>42.2</td>\n",
       "    </tr>\n",
       "    <tr>\n",
       "      <th>2</th>\n",
       "      <td>3</td>\n",
       "      <td>2013.583</td>\n",
       "      <td>13.3</td>\n",
       "      <td>561.98450</td>\n",
       "      <td>5</td>\n",
       "      <td>24.98746</td>\n",
       "      <td>121.54391</td>\n",
       "      <td>47.3</td>\n",
       "    </tr>\n",
       "    <tr>\n",
       "      <th>3</th>\n",
       "      <td>4</td>\n",
       "      <td>2013.500</td>\n",
       "      <td>13.3</td>\n",
       "      <td>561.98450</td>\n",
       "      <td>5</td>\n",
       "      <td>24.98746</td>\n",
       "      <td>121.54391</td>\n",
       "      <td>54.8</td>\n",
       "    </tr>\n",
       "    <tr>\n",
       "      <th>4</th>\n",
       "      <td>5</td>\n",
       "      <td>2012.833</td>\n",
       "      <td>5.0</td>\n",
       "      <td>390.56840</td>\n",
       "      <td>5</td>\n",
       "      <td>24.97937</td>\n",
       "      <td>121.54245</td>\n",
       "      <td>43.1</td>\n",
       "    </tr>\n",
       "  </tbody>\n",
       "</table>\n",
       "</div>"
      ],
      "text/plain": [
       "   No  X1 transaction date  X2 house age  \\\n",
       "0   1             2012.917          32.0   \n",
       "1   2             2012.917          19.5   \n",
       "2   3             2013.583          13.3   \n",
       "3   4             2013.500          13.3   \n",
       "4   5             2012.833           5.0   \n",
       "\n",
       "   X3 distance to the nearest MRT station  X4 number of convenience stores  \\\n",
       "0                                84.87882                               10   \n",
       "1                               306.59470                                9   \n",
       "2                               561.98450                                5   \n",
       "3                               561.98450                                5   \n",
       "4                               390.56840                                5   \n",
       "\n",
       "   X5 latitude  X6 longitude  Y house price of unit area  \n",
       "0     24.98298     121.54024                        37.9  \n",
       "1     24.98034     121.53951                        42.2  \n",
       "2     24.98746     121.54391                        47.3  \n",
       "3     24.98746     121.54391                        54.8  \n",
       "4     24.97937     121.54245                        43.1  "
      ]
     },
     "execution_count": 2,
     "metadata": {},
     "output_type": "execute_result"
    }
   ],
   "source": [
    "df = pd.read_csv('/kaggle/input/real-estate-price-prediction/Real estate.csv')\n",
    "df.head()"
   ]
  },
  {
   "cell_type": "code",
   "execution_count": 3,
   "id": "adb033aa",
   "metadata": {
    "execution": {
     "iopub.execute_input": "2023-02-03T14:51:11.472915Z",
     "iopub.status.busy": "2023-02-03T14:51:11.472373Z",
     "iopub.status.idle": "2023-02-03T14:51:11.480789Z",
     "shell.execute_reply": "2023-02-03T14:51:11.479523Z"
    },
    "id": "FRDWi9K9ndt5",
    "outputId": "4fc0b8ed-94ec-4da1-bad7-a701360e0691",
    "papermill": {
     "duration": 0.036754,
     "end_time": "2023-02-03T14:51:11.483182",
     "exception": false,
     "start_time": "2023-02-03T14:51:11.446428",
     "status": "completed"
    },
    "tags": []
   },
   "outputs": [
    {
     "data": {
      "text/plain": [
       "(414, 8)"
      ]
     },
     "execution_count": 3,
     "metadata": {},
     "output_type": "execute_result"
    }
   ],
   "source": [
    "# checking rows and columns \n",
    "df.shape"
   ]
  },
  {
   "cell_type": "markdown",
   "id": "c36d6c80",
   "metadata": {
    "id": "92XCztZWwOP9",
    "papermill": {
     "duration": 0.024417,
     "end_time": "2023-02-03T14:51:11.532568",
     "exception": false,
     "start_time": "2023-02-03T14:51:11.508151",
     "status": "completed"
    },
    "tags": []
   },
   "source": [
    "The real estate valuation dataset has 414 rows, 8 columns, and one of the columns indicates No (it does not provide significance to the model)."
   ]
  },
  {
   "cell_type": "code",
   "execution_count": 4,
   "id": "e011b40a",
   "metadata": {
    "execution": {
     "iopub.execute_input": "2023-02-03T14:51:11.582963Z",
     "iopub.status.busy": "2023-02-03T14:51:11.582526Z",
     "iopub.status.idle": "2023-02-03T14:51:11.595501Z",
     "shell.execute_reply": "2023-02-03T14:51:11.594364Z"
    },
    "id": "tpHQZFJI0Tvr",
    "papermill": {
     "duration": 0.042595,
     "end_time": "2023-02-03T14:51:11.599545",
     "exception": false,
     "start_time": "2023-02-03T14:51:11.556950",
     "status": "completed"
    },
    "tags": []
   },
   "outputs": [],
   "source": [
    "#drop column no\n",
    "df = df.drop('No', axis=1)"
   ]
  },
  {
   "cell_type": "markdown",
   "id": "aeacd395",
   "metadata": {
    "id": "ZdPj3ARx0ZyS",
    "outputId": "13089cec-cb64-4ada-8829-5aacc7fab48b",
    "papermill": {
     "duration": 0.023633,
     "end_time": "2023-02-03T14:51:11.648933",
     "exception": false,
     "start_time": "2023-02-03T14:51:11.625300",
     "status": "completed"
    },
    "tags": []
   },
   "source": [
    "#### Profiling Descriptive Stats"
   ]
  },
  {
   "cell_type": "code",
   "execution_count": 5,
   "id": "c3ec7f9a",
   "metadata": {
    "execution": {
     "iopub.execute_input": "2023-02-03T14:51:11.700699Z",
     "iopub.status.busy": "2023-02-03T14:51:11.700245Z",
     "iopub.status.idle": "2023-02-03T14:51:11.744159Z",
     "shell.execute_reply": "2023-02-03T14:51:11.742701Z"
    },
    "id": "1tyal268ndt6",
    "outputId": "71c2a496-16b4-48ee-c19d-5863b93b85d1",
    "papermill": {
     "duration": 0.073232,
     "end_time": "2023-02-03T14:51:11.747056",
     "exception": false,
     "start_time": "2023-02-03T14:51:11.673824",
     "status": "completed"
    },
    "tags": []
   },
   "outputs": [
    {
     "data": {
      "text/html": [
       "<div>\n",
       "<style scoped>\n",
       "    .dataframe tbody tr th:only-of-type {\n",
       "        vertical-align: middle;\n",
       "    }\n",
       "\n",
       "    .dataframe tbody tr th {\n",
       "        vertical-align: top;\n",
       "    }\n",
       "\n",
       "    .dataframe thead th {\n",
       "        text-align: right;\n",
       "    }\n",
       "</style>\n",
       "<table border=\"1\" class=\"dataframe\">\n",
       "  <thead>\n",
       "    <tr style=\"text-align: right;\">\n",
       "      <th></th>\n",
       "      <th>X1 transaction date</th>\n",
       "      <th>X2 house age</th>\n",
       "      <th>X3 distance to the nearest MRT station</th>\n",
       "      <th>X4 number of convenience stores</th>\n",
       "      <th>X5 latitude</th>\n",
       "      <th>X6 longitude</th>\n",
       "      <th>Y house price of unit area</th>\n",
       "    </tr>\n",
       "  </thead>\n",
       "  <tbody>\n",
       "    <tr>\n",
       "      <th>count</th>\n",
       "      <td>414.000000</td>\n",
       "      <td>414.000000</td>\n",
       "      <td>414.000000</td>\n",
       "      <td>414.000000</td>\n",
       "      <td>414.000000</td>\n",
       "      <td>414.000000</td>\n",
       "      <td>414.000000</td>\n",
       "    </tr>\n",
       "    <tr>\n",
       "      <th>mean</th>\n",
       "      <td>2013.148971</td>\n",
       "      <td>17.712560</td>\n",
       "      <td>1083.885689</td>\n",
       "      <td>4.094203</td>\n",
       "      <td>24.969030</td>\n",
       "      <td>121.533361</td>\n",
       "      <td>37.980193</td>\n",
       "    </tr>\n",
       "    <tr>\n",
       "      <th>std</th>\n",
       "      <td>0.281967</td>\n",
       "      <td>11.392485</td>\n",
       "      <td>1262.109595</td>\n",
       "      <td>2.945562</td>\n",
       "      <td>0.012410</td>\n",
       "      <td>0.015347</td>\n",
       "      <td>13.606488</td>\n",
       "    </tr>\n",
       "    <tr>\n",
       "      <th>min</th>\n",
       "      <td>2012.667000</td>\n",
       "      <td>0.000000</td>\n",
       "      <td>23.382840</td>\n",
       "      <td>0.000000</td>\n",
       "      <td>24.932070</td>\n",
       "      <td>121.473530</td>\n",
       "      <td>7.600000</td>\n",
       "    </tr>\n",
       "    <tr>\n",
       "      <th>25%</th>\n",
       "      <td>2012.917000</td>\n",
       "      <td>9.025000</td>\n",
       "      <td>289.324800</td>\n",
       "      <td>1.000000</td>\n",
       "      <td>24.963000</td>\n",
       "      <td>121.528085</td>\n",
       "      <td>27.700000</td>\n",
       "    </tr>\n",
       "    <tr>\n",
       "      <th>50%</th>\n",
       "      <td>2013.167000</td>\n",
       "      <td>16.100000</td>\n",
       "      <td>492.231300</td>\n",
       "      <td>4.000000</td>\n",
       "      <td>24.971100</td>\n",
       "      <td>121.538630</td>\n",
       "      <td>38.450000</td>\n",
       "    </tr>\n",
       "    <tr>\n",
       "      <th>75%</th>\n",
       "      <td>2013.417000</td>\n",
       "      <td>28.150000</td>\n",
       "      <td>1454.279000</td>\n",
       "      <td>6.000000</td>\n",
       "      <td>24.977455</td>\n",
       "      <td>121.543305</td>\n",
       "      <td>46.600000</td>\n",
       "    </tr>\n",
       "    <tr>\n",
       "      <th>max</th>\n",
       "      <td>2013.583000</td>\n",
       "      <td>43.800000</td>\n",
       "      <td>6488.021000</td>\n",
       "      <td>10.000000</td>\n",
       "      <td>25.014590</td>\n",
       "      <td>121.566270</td>\n",
       "      <td>117.500000</td>\n",
       "    </tr>\n",
       "  </tbody>\n",
       "</table>\n",
       "</div>"
      ],
      "text/plain": [
       "       X1 transaction date  X2 house age  \\\n",
       "count           414.000000    414.000000   \n",
       "mean           2013.148971     17.712560   \n",
       "std               0.281967     11.392485   \n",
       "min            2012.667000      0.000000   \n",
       "25%            2012.917000      9.025000   \n",
       "50%            2013.167000     16.100000   \n",
       "75%            2013.417000     28.150000   \n",
       "max            2013.583000     43.800000   \n",
       "\n",
       "       X3 distance to the nearest MRT station  \\\n",
       "count                              414.000000   \n",
       "mean                              1083.885689   \n",
       "std                               1262.109595   \n",
       "min                                 23.382840   \n",
       "25%                                289.324800   \n",
       "50%                                492.231300   \n",
       "75%                               1454.279000   \n",
       "max                               6488.021000   \n",
       "\n",
       "       X4 number of convenience stores  X5 latitude  X6 longitude  \\\n",
       "count                       414.000000   414.000000    414.000000   \n",
       "mean                          4.094203    24.969030    121.533361   \n",
       "std                           2.945562     0.012410      0.015347   \n",
       "min                           0.000000    24.932070    121.473530   \n",
       "25%                           1.000000    24.963000    121.528085   \n",
       "50%                           4.000000    24.971100    121.538630   \n",
       "75%                           6.000000    24.977455    121.543305   \n",
       "max                          10.000000    25.014590    121.566270   \n",
       "\n",
       "       Y house price of unit area  \n",
       "count                  414.000000  \n",
       "mean                    37.980193  \n",
       "std                     13.606488  \n",
       "min                      7.600000  \n",
       "25%                     27.700000  \n",
       "50%                     38.450000  \n",
       "75%                     46.600000  \n",
       "max                    117.500000  "
      ]
     },
     "execution_count": 5,
     "metadata": {},
     "output_type": "execute_result"
    }
   ],
   "source": [
    "df.describe()"
   ]
  },
  {
   "cell_type": "markdown",
   "id": "5313e4c0",
   "metadata": {
    "id": "aM7gDX6h7PAY",
    "papermill": {
     "duration": 0.024119,
     "end_time": "2023-02-03T14:51:11.796539",
     "exception": false,
     "start_time": "2023-02-03T14:51:11.772420",
     "status": "completed"
    },
    "tags": []
   },
   "source": [
    "The house prices spread from a range of 7.6 Pyng to 117.5 Pyng with an average of 37.98 Pyng. Furthermore, the middle value or median of the house prices which is 38.45 Pyng almost shows the similarity with the average of 37.98 Pyng (Meaning the Normal Distribution Assumption is valid)."
   ]
  },
  {
   "cell_type": "markdown",
   "id": "af31947d",
   "metadata": {
    "id": "3dRRRBGvndt6",
    "papermill": {
     "duration": 0.025501,
     "end_time": "2023-02-03T14:51:11.846609",
     "exception": false,
     "start_time": "2023-02-03T14:51:11.821108",
     "status": "completed"
    },
    "tags": []
   },
   "source": [
    "#### Simplify the colums label for a better processing"
   ]
  },
  {
   "cell_type": "code",
   "execution_count": 6,
   "id": "fa306d6d",
   "metadata": {
    "execution": {
     "iopub.execute_input": "2023-02-03T14:51:11.899553Z",
     "iopub.status.busy": "2023-02-03T14:51:11.899109Z",
     "iopub.status.idle": "2023-02-03T14:51:11.907740Z",
     "shell.execute_reply": "2023-02-03T14:51:11.906478Z"
    },
    "id": "I1XcrsMe0pmJ",
    "outputId": "4def4224-1a30-4e75-beb5-8d571831266d",
    "papermill": {
     "duration": 0.037628,
     "end_time": "2023-02-03T14:51:11.910489",
     "exception": false,
     "start_time": "2023-02-03T14:51:11.872861",
     "status": "completed"
    },
    "tags": []
   },
   "outputs": [
    {
     "data": {
      "text/plain": [
       "Index(['X1 transaction date', 'X2 house age',\n",
       "       'X3 distance to the nearest MRT station',\n",
       "       'X4 number of convenience stores', 'X5 latitude', 'X6 longitude',\n",
       "       'Y house price of unit area'],\n",
       "      dtype='object')"
      ]
     },
     "execution_count": 6,
     "metadata": {},
     "output_type": "execute_result"
    }
   ],
   "source": [
    "df.columns"
   ]
  },
  {
   "cell_type": "code",
   "execution_count": 7,
   "id": "3e4ad144",
   "metadata": {
    "execution": {
     "iopub.execute_input": "2023-02-03T14:51:11.963497Z",
     "iopub.status.busy": "2023-02-03T14:51:11.963045Z",
     "iopub.status.idle": "2023-02-03T14:51:11.969813Z",
     "shell.execute_reply": "2023-02-03T14:51:11.968734Z"
    },
    "id": "1TLVscpandt7",
    "papermill": {
     "duration": 0.037123,
     "end_time": "2023-02-03T14:51:11.972202",
     "exception": false,
     "start_time": "2023-02-03T14:51:11.935079",
     "status": "completed"
    },
    "tags": []
   },
   "outputs": [],
   "source": [
    "#Delete label comment, thus it gives simplicity \n",
    "df.rename(columns={'X1 transaction date' : 'X1', 'X2 house age':'X2',\n",
    "       'X3 distance to the nearest MRT station':'X3',\n",
    "       'X4 number of convenience stores':'X4', 'X5 latitude':'X5', 'X6 longitude':'X6',\n",
    "       'Y house price of unit area':'Y'}, inplace=True)"
   ]
  },
  {
   "cell_type": "code",
   "execution_count": 8,
   "id": "1e59e094",
   "metadata": {
    "execution": {
     "iopub.execute_input": "2023-02-03T14:51:12.024080Z",
     "iopub.status.busy": "2023-02-03T14:51:12.023702Z",
     "iopub.status.idle": "2023-02-03T14:51:12.044127Z",
     "shell.execute_reply": "2023-02-03T14:51:12.042917Z"
    },
    "id": "QqNtekHO2HR1",
    "outputId": "ce809238-dbd3-40ac-b27f-14470f1778a4",
    "papermill": {
     "duration": 0.048801,
     "end_time": "2023-02-03T14:51:12.046520",
     "exception": false,
     "start_time": "2023-02-03T14:51:11.997719",
     "status": "completed"
    },
    "tags": []
   },
   "outputs": [
    {
     "data": {
      "text/html": [
       "<div>\n",
       "<style scoped>\n",
       "    .dataframe tbody tr th:only-of-type {\n",
       "        vertical-align: middle;\n",
       "    }\n",
       "\n",
       "    .dataframe tbody tr th {\n",
       "        vertical-align: top;\n",
       "    }\n",
       "\n",
       "    .dataframe thead th {\n",
       "        text-align: right;\n",
       "    }\n",
       "</style>\n",
       "<table border=\"1\" class=\"dataframe\">\n",
       "  <thead>\n",
       "    <tr style=\"text-align: right;\">\n",
       "      <th></th>\n",
       "      <th>X1</th>\n",
       "      <th>X2</th>\n",
       "      <th>X3</th>\n",
       "      <th>X4</th>\n",
       "      <th>X5</th>\n",
       "      <th>X6</th>\n",
       "      <th>Y</th>\n",
       "    </tr>\n",
       "  </thead>\n",
       "  <tbody>\n",
       "    <tr>\n",
       "      <th>0</th>\n",
       "      <td>2012.917</td>\n",
       "      <td>32.0</td>\n",
       "      <td>84.87882</td>\n",
       "      <td>10</td>\n",
       "      <td>24.98298</td>\n",
       "      <td>121.54024</td>\n",
       "      <td>37.9</td>\n",
       "    </tr>\n",
       "    <tr>\n",
       "      <th>1</th>\n",
       "      <td>2012.917</td>\n",
       "      <td>19.5</td>\n",
       "      <td>306.59470</td>\n",
       "      <td>9</td>\n",
       "      <td>24.98034</td>\n",
       "      <td>121.53951</td>\n",
       "      <td>42.2</td>\n",
       "    </tr>\n",
       "    <tr>\n",
       "      <th>2</th>\n",
       "      <td>2013.583</td>\n",
       "      <td>13.3</td>\n",
       "      <td>561.98450</td>\n",
       "      <td>5</td>\n",
       "      <td>24.98746</td>\n",
       "      <td>121.54391</td>\n",
       "      <td>47.3</td>\n",
       "    </tr>\n",
       "    <tr>\n",
       "      <th>3</th>\n",
       "      <td>2013.500</td>\n",
       "      <td>13.3</td>\n",
       "      <td>561.98450</td>\n",
       "      <td>5</td>\n",
       "      <td>24.98746</td>\n",
       "      <td>121.54391</td>\n",
       "      <td>54.8</td>\n",
       "    </tr>\n",
       "    <tr>\n",
       "      <th>4</th>\n",
       "      <td>2012.833</td>\n",
       "      <td>5.0</td>\n",
       "      <td>390.56840</td>\n",
       "      <td>5</td>\n",
       "      <td>24.97937</td>\n",
       "      <td>121.54245</td>\n",
       "      <td>43.1</td>\n",
       "    </tr>\n",
       "    <tr>\n",
       "      <th>...</th>\n",
       "      <td>...</td>\n",
       "      <td>...</td>\n",
       "      <td>...</td>\n",
       "      <td>...</td>\n",
       "      <td>...</td>\n",
       "      <td>...</td>\n",
       "      <td>...</td>\n",
       "    </tr>\n",
       "    <tr>\n",
       "      <th>409</th>\n",
       "      <td>2013.000</td>\n",
       "      <td>13.7</td>\n",
       "      <td>4082.01500</td>\n",
       "      <td>0</td>\n",
       "      <td>24.94155</td>\n",
       "      <td>121.50381</td>\n",
       "      <td>15.4</td>\n",
       "    </tr>\n",
       "    <tr>\n",
       "      <th>410</th>\n",
       "      <td>2012.667</td>\n",
       "      <td>5.6</td>\n",
       "      <td>90.45606</td>\n",
       "      <td>9</td>\n",
       "      <td>24.97433</td>\n",
       "      <td>121.54310</td>\n",
       "      <td>50.0</td>\n",
       "    </tr>\n",
       "    <tr>\n",
       "      <th>411</th>\n",
       "      <td>2013.250</td>\n",
       "      <td>18.8</td>\n",
       "      <td>390.96960</td>\n",
       "      <td>7</td>\n",
       "      <td>24.97923</td>\n",
       "      <td>121.53986</td>\n",
       "      <td>40.6</td>\n",
       "    </tr>\n",
       "    <tr>\n",
       "      <th>412</th>\n",
       "      <td>2013.000</td>\n",
       "      <td>8.1</td>\n",
       "      <td>104.81010</td>\n",
       "      <td>5</td>\n",
       "      <td>24.96674</td>\n",
       "      <td>121.54067</td>\n",
       "      <td>52.5</td>\n",
       "    </tr>\n",
       "    <tr>\n",
       "      <th>413</th>\n",
       "      <td>2013.500</td>\n",
       "      <td>6.5</td>\n",
       "      <td>90.45606</td>\n",
       "      <td>9</td>\n",
       "      <td>24.97433</td>\n",
       "      <td>121.54310</td>\n",
       "      <td>63.9</td>\n",
       "    </tr>\n",
       "  </tbody>\n",
       "</table>\n",
       "<p>414 rows × 7 columns</p>\n",
       "</div>"
      ],
      "text/plain": [
       "           X1    X2          X3  X4        X5         X6     Y\n",
       "0    2012.917  32.0    84.87882  10  24.98298  121.54024  37.9\n",
       "1    2012.917  19.5   306.59470   9  24.98034  121.53951  42.2\n",
       "2    2013.583  13.3   561.98450   5  24.98746  121.54391  47.3\n",
       "3    2013.500  13.3   561.98450   5  24.98746  121.54391  54.8\n",
       "4    2012.833   5.0   390.56840   5  24.97937  121.54245  43.1\n",
       "..        ...   ...         ...  ..       ...        ...   ...\n",
       "409  2013.000  13.7  4082.01500   0  24.94155  121.50381  15.4\n",
       "410  2012.667   5.6    90.45606   9  24.97433  121.54310  50.0\n",
       "411  2013.250  18.8   390.96960   7  24.97923  121.53986  40.6\n",
       "412  2013.000   8.1   104.81010   5  24.96674  121.54067  52.5\n",
       "413  2013.500   6.5    90.45606   9  24.97433  121.54310  63.9\n",
       "\n",
       "[414 rows x 7 columns]"
      ]
     },
     "execution_count": 8,
     "metadata": {},
     "output_type": "execute_result"
    }
   ],
   "source": [
    "df"
   ]
  },
  {
   "cell_type": "markdown",
   "id": "febb3075",
   "metadata": {
    "id": "oce5ia3-2JVP",
    "papermill": {
     "duration": 0.026563,
     "end_time": "2023-02-03T14:51:12.097926",
     "exception": false,
     "start_time": "2023-02-03T14:51:12.071363",
     "status": "completed"
    },
    "tags": []
   },
   "source": [
    "# 2. EDA"
   ]
  },
  {
   "cell_type": "code",
   "execution_count": 9,
   "id": "8230b6ad",
   "metadata": {
    "execution": {
     "iopub.execute_input": "2023-02-03T14:51:12.150348Z",
     "iopub.status.busy": "2023-02-03T14:51:12.149673Z",
     "iopub.status.idle": "2023-02-03T14:51:13.293480Z",
     "shell.execute_reply": "2023-02-03T14:51:13.292219Z"
    },
    "id": "fKgT6lryndt8",
    "papermill": {
     "duration": 1.17343,
     "end_time": "2023-02-03T14:51:13.296538",
     "exception": false,
     "start_time": "2023-02-03T14:51:12.123108",
     "status": "completed"
    },
    "tags": []
   },
   "outputs": [],
   "source": [
    "import matplotlib.pyplot as plt\n",
    "import seaborn as sns"
   ]
  },
  {
   "cell_type": "markdown",
   "id": "33b555f4",
   "metadata": {
    "id": "DXImxOSP28yk",
    "papermill": {
     "duration": 0.024293,
     "end_time": "2023-02-03T14:51:13.346145",
     "exception": false,
     "start_time": "2023-02-03T14:51:13.321852",
     "status": "completed"
    },
    "tags": []
   },
   "source": [
    "**2.1. Illustrate the condition of the house price in the (house price of unit area) variable!**\n",
    "\n",
    "**a. The explanation can be given through descriptive statistic from house price feature.**"
   ]
  },
  {
   "cell_type": "code",
   "execution_count": 10,
   "id": "7d4f9112",
   "metadata": {
    "execution": {
     "iopub.execute_input": "2023-02-03T14:51:13.407326Z",
     "iopub.status.busy": "2023-02-03T14:51:13.406033Z",
     "iopub.status.idle": "2023-02-03T14:51:13.447624Z",
     "shell.execute_reply": "2023-02-03T14:51:13.446326Z"
    },
    "id": "RePkE9j03nf2",
    "outputId": "67fc6d7a-324e-4c50-8ca1-842fcc7f7628",
    "papermill": {
     "duration": 0.075445,
     "end_time": "2023-02-03T14:51:13.450534",
     "exception": false,
     "start_time": "2023-02-03T14:51:13.375089",
     "status": "completed"
    },
    "tags": []
   },
   "outputs": [
    {
     "data": {
      "text/html": [
       "<div>\n",
       "<style scoped>\n",
       "    .dataframe tbody tr th:only-of-type {\n",
       "        vertical-align: middle;\n",
       "    }\n",
       "\n",
       "    .dataframe tbody tr th {\n",
       "        vertical-align: top;\n",
       "    }\n",
       "\n",
       "    .dataframe thead th {\n",
       "        text-align: right;\n",
       "    }\n",
       "</style>\n",
       "<table border=\"1\" class=\"dataframe\">\n",
       "  <thead>\n",
       "    <tr style=\"text-align: right;\">\n",
       "      <th></th>\n",
       "      <th>X1</th>\n",
       "      <th>X2</th>\n",
       "      <th>X3</th>\n",
       "      <th>X4</th>\n",
       "      <th>X5</th>\n",
       "      <th>X6</th>\n",
       "      <th>Y</th>\n",
       "    </tr>\n",
       "  </thead>\n",
       "  <tbody>\n",
       "    <tr>\n",
       "      <th>count</th>\n",
       "      <td>414.000000</td>\n",
       "      <td>414.000000</td>\n",
       "      <td>414.000000</td>\n",
       "      <td>414.000000</td>\n",
       "      <td>414.000000</td>\n",
       "      <td>414.000000</td>\n",
       "      <td>414.000000</td>\n",
       "    </tr>\n",
       "    <tr>\n",
       "      <th>mean</th>\n",
       "      <td>2013.148971</td>\n",
       "      <td>17.712560</td>\n",
       "      <td>1083.885689</td>\n",
       "      <td>4.094203</td>\n",
       "      <td>24.969030</td>\n",
       "      <td>121.533361</td>\n",
       "      <td>37.980193</td>\n",
       "    </tr>\n",
       "    <tr>\n",
       "      <th>std</th>\n",
       "      <td>0.281967</td>\n",
       "      <td>11.392485</td>\n",
       "      <td>1262.109595</td>\n",
       "      <td>2.945562</td>\n",
       "      <td>0.012410</td>\n",
       "      <td>0.015347</td>\n",
       "      <td>13.606488</td>\n",
       "    </tr>\n",
       "    <tr>\n",
       "      <th>min</th>\n",
       "      <td>2012.667000</td>\n",
       "      <td>0.000000</td>\n",
       "      <td>23.382840</td>\n",
       "      <td>0.000000</td>\n",
       "      <td>24.932070</td>\n",
       "      <td>121.473530</td>\n",
       "      <td>7.600000</td>\n",
       "    </tr>\n",
       "    <tr>\n",
       "      <th>25%</th>\n",
       "      <td>2012.917000</td>\n",
       "      <td>9.025000</td>\n",
       "      <td>289.324800</td>\n",
       "      <td>1.000000</td>\n",
       "      <td>24.963000</td>\n",
       "      <td>121.528085</td>\n",
       "      <td>27.700000</td>\n",
       "    </tr>\n",
       "    <tr>\n",
       "      <th>50%</th>\n",
       "      <td>2013.167000</td>\n",
       "      <td>16.100000</td>\n",
       "      <td>492.231300</td>\n",
       "      <td>4.000000</td>\n",
       "      <td>24.971100</td>\n",
       "      <td>121.538630</td>\n",
       "      <td>38.450000</td>\n",
       "    </tr>\n",
       "    <tr>\n",
       "      <th>75%</th>\n",
       "      <td>2013.417000</td>\n",
       "      <td>28.150000</td>\n",
       "      <td>1454.279000</td>\n",
       "      <td>6.000000</td>\n",
       "      <td>24.977455</td>\n",
       "      <td>121.543305</td>\n",
       "      <td>46.600000</td>\n",
       "    </tr>\n",
       "    <tr>\n",
       "      <th>max</th>\n",
       "      <td>2013.583000</td>\n",
       "      <td>43.800000</td>\n",
       "      <td>6488.021000</td>\n",
       "      <td>10.000000</td>\n",
       "      <td>25.014590</td>\n",
       "      <td>121.566270</td>\n",
       "      <td>117.500000</td>\n",
       "    </tr>\n",
       "  </tbody>\n",
       "</table>\n",
       "</div>"
      ],
      "text/plain": [
       "                X1          X2           X3          X4          X5  \\\n",
       "count   414.000000  414.000000   414.000000  414.000000  414.000000   \n",
       "mean   2013.148971   17.712560  1083.885689    4.094203   24.969030   \n",
       "std       0.281967   11.392485  1262.109595    2.945562    0.012410   \n",
       "min    2012.667000    0.000000    23.382840    0.000000   24.932070   \n",
       "25%    2012.917000    9.025000   289.324800    1.000000   24.963000   \n",
       "50%    2013.167000   16.100000   492.231300    4.000000   24.971100   \n",
       "75%    2013.417000   28.150000  1454.279000    6.000000   24.977455   \n",
       "max    2013.583000   43.800000  6488.021000   10.000000   25.014590   \n",
       "\n",
       "               X6           Y  \n",
       "count  414.000000  414.000000  \n",
       "mean   121.533361   37.980193  \n",
       "std      0.015347   13.606488  \n",
       "min    121.473530    7.600000  \n",
       "25%    121.528085   27.700000  \n",
       "50%    121.538630   38.450000  \n",
       "75%    121.543305   46.600000  \n",
       "max    121.566270  117.500000  "
      ]
     },
     "execution_count": 10,
     "metadata": {},
     "output_type": "execute_result"
    }
   ],
   "source": [
    "df.describe()"
   ]
  },
  {
   "cell_type": "markdown",
   "id": "d58721b6",
   "metadata": {
    "id": "urDbz_Ep6F3k",
    "papermill": {
     "duration": 0.026536,
     "end_time": "2023-02-03T14:51:13.512727",
     "exception": false,
     "start_time": "2023-02-03T14:51:13.486191",
     "status": "completed"
    },
    "tags": []
   },
   "source": [
    "Key takeaway:\n",
    "* The Y variable or house price has met the classical assumption of a normal distribution with similarities in the mean value (mean) and median value (median), which are 37.98 and 38.45 respectively. "
   ]
  },
  {
   "cell_type": "markdown",
   "id": "767adb36",
   "metadata": {
    "id": "eDwsaoV13-_k",
    "papermill": {
     "duration": 0.025077,
     "end_time": "2023-02-03T14:51:13.563569",
     "exception": false,
     "start_time": "2023-02-03T14:51:13.538492",
     "status": "completed"
    },
    "tags": []
   },
   "source": [
    "**b. How about the distribution of house price? **"
   ]
  },
  {
   "cell_type": "code",
   "execution_count": 11,
   "id": "ab575f12",
   "metadata": {
    "execution": {
     "iopub.execute_input": "2023-02-03T14:51:13.617051Z",
     "iopub.status.busy": "2023-02-03T14:51:13.616624Z",
     "iopub.status.idle": "2023-02-03T14:51:14.500970Z",
     "shell.execute_reply": "2023-02-03T14:51:14.499597Z"
    },
    "id": "o5QGkPUA4IIs",
    "papermill": {
     "duration": 0.914066,
     "end_time": "2023-02-03T14:51:14.503851",
     "exception": false,
     "start_time": "2023-02-03T14:51:13.589785",
     "status": "completed"
    },
    "tags": []
   },
   "outputs": [],
   "source": [
    "import statsmodels.api as sm\n",
    "import pylab as py\n",
    "import scipy.stats as stats"
   ]
  },
  {
   "cell_type": "code",
   "execution_count": 12,
   "id": "1a22b4a4",
   "metadata": {
    "execution": {
     "iopub.execute_input": "2023-02-03T14:51:14.556458Z",
     "iopub.status.busy": "2023-02-03T14:51:14.555760Z",
     "iopub.status.idle": "2023-02-03T14:51:14.777733Z",
     "shell.execute_reply": "2023-02-03T14:51:14.776446Z"
    },
    "id": "NeMYEzvc7P28",
    "outputId": "adf2910e-efb2-420e-ac53-82b4870fc34e",
    "papermill": {
     "duration": 0.251395,
     "end_time": "2023-02-03T14:51:14.780271",
     "exception": false,
     "start_time": "2023-02-03T14:51:14.528876",
     "status": "completed"
    },
    "tags": []
   },
   "outputs": [
    {
     "data": {
      "image/png": "[encoded data removed]",
      "text/plain": [
       "<Figure size 432x288 with 1 Axes>"
      ]
     },
     "metadata": {
      "needs_background": "light"
     },
     "output_type": "display_data"
    }
   ],
   "source": [
    "#QQ-Plot\n",
    "stats.probplot(df['Y'], dist='norm', plot=py)\n",
    "py.show()"
   ]
  },
  {
   "cell_type": "markdown",
   "id": "6747c1a4",
   "metadata": {
    "id": "tLzq1Wx372cJ",
    "papermill": {
     "duration": 0.025058,
     "end_time": "2023-02-03T14:51:14.830678",
     "exception": false,
     "start_time": "2023-02-03T14:51:14.805620",
     "status": "completed"
    },
    "tags": []
   },
   "source": [
    "Key takeaway:\n",
    "* It can be seen from the QQ-Plot that the Y values depicted as dots show that they overlap with the diagonal line, overall. In other words, the Y value data can meet the regression assumption, which is a normal distribution."
   ]
  },
  {
   "cell_type": "markdown",
   "id": "bceb0aad",
   "metadata": {
    "id": "tooSf0Lq5AbZ",
    "papermill": {
     "duration": 0.025755,
     "end_time": "2023-02-03T14:51:14.882007",
     "exception": false,
     "start_time": "2023-02-03T14:51:14.856252",
     "status": "completed"
    },
    "tags": []
   },
   "source": [
    "**c. Is there any outlier value in the house price variable? If so, what are the values?**\n"
   ]
  },
  {
   "cell_type": "code",
   "execution_count": 13,
   "id": "df8fd813",
   "metadata": {
    "execution": {
     "iopub.execute_input": "2023-02-03T14:51:14.938042Z",
     "iopub.status.busy": "2023-02-03T14:51:14.937646Z",
     "iopub.status.idle": "2023-02-03T14:51:15.112699Z",
     "shell.execute_reply": "2023-02-03T14:51:15.111195Z"
    },
    "id": "6TOT-BIG3wem",
    "outputId": "409f055c-684d-4c43-8ba5-27858dc2b936",
    "papermill": {
     "duration": 0.206597,
     "end_time": "2023-02-03T14:51:15.115594",
     "exception": false,
     "start_time": "2023-02-03T14:51:14.908997",
     "status": "completed"
    },
    "tags": []
   },
   "outputs": [
    {
     "data": {
      "text/plain": [
       "<AxesSubplot:>"
      ]
     },
     "execution_count": 13,
     "metadata": {},
     "output_type": "execute_result"
    },
    {
     "data": {
      "image/png": "[encoded data removed]",
      "text/plain": [
       "<Figure size 432x288 with 1 Axes>"
      ]
     },
     "metadata": {
      "needs_background": "light"
     },
     "output_type": "display_data"
    }
   ],
   "source": [
    "sns.boxplot(data=df['Y'])"
   ]
  },
  {
   "cell_type": "code",
   "execution_count": 14,
   "id": "bb4169f1",
   "metadata": {
    "execution": {
     "iopub.execute_input": "2023-02-03T14:51:15.171145Z",
     "iopub.status.busy": "2023-02-03T14:51:15.170129Z",
     "iopub.status.idle": "2023-02-03T14:51:15.382794Z",
     "shell.execute_reply": "2023-02-03T14:51:15.381788Z"
    },
    "id": "8f6iy24v_xMi",
    "outputId": "15aa3c62-b9d4-4a7b-8184-01429792f44c",
    "papermill": {
     "duration": 0.242931,
     "end_time": "2023-02-03T14:51:15.385240",
     "exception": false,
     "start_time": "2023-02-03T14:51:15.142309",
     "status": "completed"
    },
    "tags": []
   },
   "outputs": [
    {
     "data": {
      "text/plain": [
       "<AxesSubplot:>"
      ]
     },
     "execution_count": 14,
     "metadata": {},
     "output_type": "execute_result"
    },
    {
     "data": {
      "image/png": "[encoded data removed]",
      "text/plain": [
       "<Figure size 936x576 with 1 Axes>"
      ]
     },
     "metadata": {
      "needs_background": "light"
     },
     "output_type": "display_data"
    }
   ],
   "source": [
    "df[['Y']].boxplot(figsize=(13, 8))"
   ]
  },
  {
   "cell_type": "markdown",
   "id": "47745944",
   "metadata": {
    "id": "ZN_g-oMd-LMw",
    "outputId": "e4f68353-f43f-46ef-b55c-cc6be9264ac1",
    "papermill": {
     "duration": 0.025492,
     "end_time": "2023-02-03T14:51:15.437083",
     "exception": false,
     "start_time": "2023-02-03T14:51:15.411591",
     "status": "completed"
    },
    "tags": []
   },
   "source": [
    "Key takeaway:\n",
    "* From the above boxplot, there are outlier data around the values of 75-80 and below 120. "
   ]
  },
  {
   "cell_type": "code",
   "execution_count": 15,
   "id": "20c53c10",
   "metadata": {
    "execution": {
     "iopub.execute_input": "2023-02-03T14:51:15.491654Z",
     "iopub.status.busy": "2023-02-03T14:51:15.490974Z",
     "iopub.status.idle": "2023-02-03T14:51:15.499841Z",
     "shell.execute_reply": "2023-02-03T14:51:15.498012Z"
    },
    "id": "dpuKlvfDRRsA",
    "outputId": "4a11b70f-998e-4a61-fd52-9f793c65332f",
    "papermill": {
     "duration": 0.03998,
     "end_time": "2023-02-03T14:51:15.503135",
     "exception": false,
     "start_time": "2023-02-03T14:51:15.463155",
     "status": "completed"
    },
    "tags": []
   },
   "outputs": [
    {
     "name": "stdout",
     "output_type": "stream",
     "text": [
      "27.7\n",
      "46.6\n"
     ]
    }
   ],
   "source": [
    "#Find Q1 & Q3\n",
    "Q1 =df['Y'].quantile(0.25)\n",
    "Q3 =df['Y'].quantile(0.75)\n",
    "print(Q1)\n",
    "print(Q3)"
   ]
  },
  {
   "cell_type": "code",
   "execution_count": 16,
   "id": "d4a01e1b",
   "metadata": {
    "execution": {
     "iopub.execute_input": "2023-02-03T14:51:15.558467Z",
     "iopub.status.busy": "2023-02-03T14:51:15.557789Z",
     "iopub.status.idle": "2023-02-03T14:51:15.563928Z",
     "shell.execute_reply": "2023-02-03T14:51:15.562912Z"
    },
    "id": "w4Gweq90STUu",
    "outputId": "7eba6236-b7e6-444d-d2d0-7ef716c3c7ca",
    "papermill": {
     "duration": 0.036543,
     "end_time": "2023-02-03T14:51:15.566293",
     "exception": false,
     "start_time": "2023-02-03T14:51:15.529750",
     "status": "completed"
    },
    "tags": []
   },
   "outputs": [
    {
     "data": {
      "text/plain": [
       "18.900000000000002"
      ]
     },
     "execution_count": 16,
     "metadata": {},
     "output_type": "execute_result"
    }
   ],
   "source": [
    "# Find the IQR which is the difference between third and first quartile\n",
    "IQR =  Q3 - Q1\n",
    "IQR"
   ]
  },
  {
   "cell_type": "code",
   "execution_count": 17,
   "id": "81213834",
   "metadata": {
    "execution": {
     "iopub.execute_input": "2023-02-03T14:51:15.622570Z",
     "iopub.status.busy": "2023-02-03T14:51:15.622130Z",
     "iopub.status.idle": "2023-02-03T14:51:15.628348Z",
     "shell.execute_reply": "2023-02-03T14:51:15.626865Z"
    },
    "id": "9vZknAT5SToD",
    "outputId": "2b8a2ae4-7b00-4cea-a528-c9b757d7d8d6",
    "papermill": {
     "duration": 0.037674,
     "end_time": "2023-02-03T14:51:15.631332",
     "exception": false,
     "start_time": "2023-02-03T14:51:15.593658",
     "status": "completed"
    },
    "tags": []
   },
   "outputs": [
    {
     "name": "stdout",
     "output_type": "stream",
     "text": [
      "-0.6500000000000021\n",
      "74.95\n"
     ]
    }
   ],
   "source": [
    "# Find lower and upper bound\n",
    "lower_bound = Q1 - 1.5*IQR\n",
    "upper_bound = Q3 + 1.5*IQR\n",
    "print(lower_bound)\n",
    "print(upper_bound)"
   ]
  },
  {
   "cell_type": "code",
   "execution_count": 18,
   "id": "3bbfbc2e",
   "metadata": {
    "execution": {
     "iopub.execute_input": "2023-02-03T14:51:15.689819Z",
     "iopub.status.busy": "2023-02-03T14:51:15.689118Z",
     "iopub.status.idle": "2023-02-03T14:51:15.703837Z",
     "shell.execute_reply": "2023-02-03T14:51:15.703008Z"
    },
    "id": "rYbw0KBET3Xs",
    "outputId": "e2e83ee0-adf4-4731-9d90-97345a0698a3",
    "papermill": {
     "duration": 0.046318,
     "end_time": "2023-02-03T14:51:15.706094",
     "exception": false,
     "start_time": "2023-02-03T14:51:15.659776",
     "status": "completed"
    },
    "tags": []
   },
   "outputs": [
    {
     "data": {
      "text/html": [
       "<div>\n",
       "<style scoped>\n",
       "    .dataframe tbody tr th:only-of-type {\n",
       "        vertical-align: middle;\n",
       "    }\n",
       "\n",
       "    .dataframe tbody tr th {\n",
       "        vertical-align: top;\n",
       "    }\n",
       "\n",
       "    .dataframe thead th {\n",
       "        text-align: right;\n",
       "    }\n",
       "</style>\n",
       "<table border=\"1\" class=\"dataframe\">\n",
       "  <thead>\n",
       "    <tr style=\"text-align: right;\">\n",
       "      <th></th>\n",
       "      <th>X1</th>\n",
       "      <th>X2</th>\n",
       "      <th>X3</th>\n",
       "      <th>X4</th>\n",
       "      <th>X5</th>\n",
       "      <th>X6</th>\n",
       "      <th>Y</th>\n",
       "    </tr>\n",
       "  </thead>\n",
       "  <tbody>\n",
       "    <tr>\n",
       "      <th>220</th>\n",
       "      <td>2013.333</td>\n",
       "      <td>37.2</td>\n",
       "      <td>186.5101</td>\n",
       "      <td>9</td>\n",
       "      <td>24.97703</td>\n",
       "      <td>121.54265</td>\n",
       "      <td>78.3</td>\n",
       "    </tr>\n",
       "    <tr>\n",
       "      <th>270</th>\n",
       "      <td>2013.333</td>\n",
       "      <td>10.8</td>\n",
       "      <td>252.5822</td>\n",
       "      <td>1</td>\n",
       "      <td>24.97460</td>\n",
       "      <td>121.53046</td>\n",
       "      <td>117.5</td>\n",
       "    </tr>\n",
       "    <tr>\n",
       "      <th>312</th>\n",
       "      <td>2013.583</td>\n",
       "      <td>35.4</td>\n",
       "      <td>318.5292</td>\n",
       "      <td>9</td>\n",
       "      <td>24.97071</td>\n",
       "      <td>121.54069</td>\n",
       "      <td>78.0</td>\n",
       "    </tr>\n",
       "  </tbody>\n",
       "</table>\n",
       "</div>"
      ],
      "text/plain": [
       "           X1    X2        X3  X4        X5         X6      Y\n",
       "220  2013.333  37.2  186.5101   9  24.97703  121.54265   78.3\n",
       "270  2013.333  10.8  252.5822   1  24.97460  121.53046  117.5\n",
       "312  2013.583  35.4  318.5292   9  24.97071  121.54069   78.0"
      ]
     },
     "execution_count": 18,
     "metadata": {},
     "output_type": "execute_result"
    }
   ],
   "source": [
    "# Find outliers\n",
    "df[(df['Y']<lower_bound) | (df['Y']>upper_bound)]"
   ]
  },
  {
   "cell_type": "markdown",
   "id": "c8f51cf5",
   "metadata": {
    "id": "K_v0yEWtkmrJ",
    "papermill": {
     "duration": 0.026606,
     "end_time": "2023-02-03T14:51:15.759351",
     "exception": false,
     "start_time": "2023-02-03T14:51:15.732745",
     "status": "completed"
    },
    "tags": []
   },
   "source": [
    "Key takeaway: \n",
    "* The obtained outlier values are greater than the upper bound (78, 78.3, and 117.5)."
   ]
  },
  {
   "cell_type": "code",
   "execution_count": 19,
   "id": "c0bcc4a2",
   "metadata": {
    "execution": {
     "iopub.execute_input": "2023-02-03T14:51:15.814931Z",
     "iopub.status.busy": "2023-02-03T14:51:15.814018Z",
     "iopub.status.idle": "2023-02-03T14:51:15.833326Z",
     "shell.execute_reply": "2023-02-03T14:51:15.831600Z"
    },
    "id": "78A1DfJdY9wj",
    "outputId": "960f8164-7095-40bf-d238-21f91bc95c2d",
    "papermill": {
     "duration": 0.049878,
     "end_time": "2023-02-03T14:51:15.835908",
     "exception": false,
     "start_time": "2023-02-03T14:51:15.786030",
     "status": "completed"
    },
    "tags": []
   },
   "outputs": [
    {
     "name": "stdout",
     "output_type": "stream",
     "text": [
      "<class 'pandas.core.frame.DataFrame'>\n",
      "RangeIndex: 414 entries, 0 to 413\n",
      "Data columns (total 7 columns):\n",
      " #   Column  Non-Null Count  Dtype  \n",
      "---  ------  --------------  -----  \n",
      " 0   X1      414 non-null    float64\n",
      " 1   X2      414 non-null    float64\n",
      " 2   X3      414 non-null    float64\n",
      " 3   X4      414 non-null    int64  \n",
      " 4   X5      414 non-null    float64\n",
      " 5   X6      414 non-null    float64\n",
      " 6   Y       414 non-null    float64\n",
      "dtypes: float64(6), int64(1)\n",
      "memory usage: 22.8 KB\n"
     ]
    }
   ],
   "source": [
    "df.info()"
   ]
  },
  {
   "cell_type": "code",
   "execution_count": 20,
   "id": "fbf4810f",
   "metadata": {
    "execution": {
     "iopub.execute_input": "2023-02-03T14:51:15.892000Z",
     "iopub.status.busy": "2023-02-03T14:51:15.890713Z",
     "iopub.status.idle": "2023-02-03T14:51:15.899934Z",
     "shell.execute_reply": "2023-02-03T14:51:15.898609Z"
    },
    "id": "k0LIAcJ9dCiY",
    "papermill": {
     "duration": 0.040084,
     "end_time": "2023-02-03T14:51:15.902995",
     "exception": false,
     "start_time": "2023-02-03T14:51:15.862911",
     "status": "completed"
    },
    "tags": []
   },
   "outputs": [],
   "source": [
    "df = df[~((df['Y'] < (Q1 - 1.5 * IQR)) |(df['Y'] > (Q3 + 1.5 * IQR)))]"
   ]
  },
  {
   "cell_type": "code",
   "execution_count": 21,
   "id": "b7283180",
   "metadata": {
    "execution": {
     "iopub.execute_input": "2023-02-03T14:51:15.962818Z",
     "iopub.status.busy": "2023-02-03T14:51:15.962010Z",
     "iopub.status.idle": "2023-02-03T14:51:15.976568Z",
     "shell.execute_reply": "2023-02-03T14:51:15.975589Z"
    },
    "id": "bDvd2CE6aeJg",
    "outputId": "98f6934d-b84d-4c2a-c48e-c9a3dd3c4804",
    "papermill": {
     "duration": 0.048742,
     "end_time": "2023-02-03T14:51:15.979902",
     "exception": false,
     "start_time": "2023-02-03T14:51:15.931160",
     "status": "completed"
    },
    "tags": []
   },
   "outputs": [
    {
     "name": "stdout",
     "output_type": "stream",
     "text": [
      "<class 'pandas.core.frame.DataFrame'>\n",
      "Int64Index: 411 entries, 0 to 413\n",
      "Data columns (total 7 columns):\n",
      " #   Column  Non-Null Count  Dtype  \n",
      "---  ------  --------------  -----  \n",
      " 0   X1      411 non-null    float64\n",
      " 1   X2      411 non-null    float64\n",
      " 2   X3      411 non-null    float64\n",
      " 3   X4      411 non-null    int64  \n",
      " 4   X5      411 non-null    float64\n",
      " 5   X6      411 non-null    float64\n",
      " 6   Y       411 non-null    float64\n",
      "dtypes: float64(6), int64(1)\n",
      "memory usage: 25.7 KB\n"
     ]
    }
   ],
   "source": [
    "df.info()"
   ]
  },
  {
   "cell_type": "markdown",
   "id": "139c43a7",
   "metadata": {
    "id": "Md1Zaw-65QBz",
    "papermill": {
     "duration": 0.028037,
     "end_time": "2023-02-03T14:51:16.037508",
     "exception": false,
     "start_time": "2023-02-03T14:51:16.009471",
     "status": "completed"
    },
    "tags": []
   },
   "source": [
    "**d. What are the variables that are correlated with house price? What is the direction and how strong is the relationship?**\n",
    "\n",
    "**Note : If the correlation coefficient is >= 0.5, it means that there is a relationship between the variables.**\n",
    "\n",
    "**If the correlation coefficient is less than 0.5, there is no relationship between variables.**"
   ]
  },
  {
   "cell_type": "code",
   "execution_count": 22,
   "id": "2908f635",
   "metadata": {
    "execution": {
     "iopub.execute_input": "2023-02-03T14:51:16.095026Z",
     "iopub.status.busy": "2023-02-03T14:51:16.093961Z",
     "iopub.status.idle": "2023-02-03T14:51:16.111745Z",
     "shell.execute_reply": "2023-02-03T14:51:16.110578Z"
    },
    "id": "7hUD0BijwOQP",
    "outputId": "6e33d515-aecc-460a-8d5b-4232c5006e03",
    "papermill": {
     "duration": 0.04972,
     "end_time": "2023-02-03T14:51:16.114478",
     "exception": false,
     "start_time": "2023-02-03T14:51:16.064758",
     "status": "completed"
    },
    "scrolled": true,
    "tags": []
   },
   "outputs": [
    {
     "data": {
      "text/html": [
       "<div>\n",
       "<style scoped>\n",
       "    .dataframe tbody tr th:only-of-type {\n",
       "        vertical-align: middle;\n",
       "    }\n",
       "\n",
       "    .dataframe tbody tr th {\n",
       "        vertical-align: top;\n",
       "    }\n",
       "\n",
       "    .dataframe thead th {\n",
       "        text-align: right;\n",
       "    }\n",
       "</style>\n",
       "<table border=\"1\" class=\"dataframe\">\n",
       "  <thead>\n",
       "    <tr style=\"text-align: right;\">\n",
       "      <th></th>\n",
       "      <th>X1</th>\n",
       "      <th>X2</th>\n",
       "      <th>X3</th>\n",
       "      <th>X4</th>\n",
       "      <th>X5</th>\n",
       "      <th>X6</th>\n",
       "      <th>Y</th>\n",
       "    </tr>\n",
       "  </thead>\n",
       "  <tbody>\n",
       "    <tr>\n",
       "      <th>X1</th>\n",
       "      <td>1.000000</td>\n",
       "      <td>0.010083</td>\n",
       "      <td>0.065700</td>\n",
       "      <td>0.002447</td>\n",
       "      <td>0.032960</td>\n",
       "      <td>-0.043740</td>\n",
       "      <td>0.067013</td>\n",
       "    </tr>\n",
       "    <tr>\n",
       "      <th>X2</th>\n",
       "      <td>0.010083</td>\n",
       "      <td>1.000000</td>\n",
       "      <td>0.030167</td>\n",
       "      <td>0.035385</td>\n",
       "      <td>0.052285</td>\n",
       "      <td>-0.053527</td>\n",
       "      <td>-0.242852</td>\n",
       "    </tr>\n",
       "    <tr>\n",
       "      <th>X3</th>\n",
       "      <td>0.065700</td>\n",
       "      <td>0.030167</td>\n",
       "      <td>1.000000</td>\n",
       "      <td>-0.604710</td>\n",
       "      <td>-0.590426</td>\n",
       "      <td>-0.806768</td>\n",
       "      <td>-0.701349</td>\n",
       "    </tr>\n",
       "    <tr>\n",
       "      <th>X4</th>\n",
       "      <td>0.002447</td>\n",
       "      <td>0.035385</td>\n",
       "      <td>-0.604710</td>\n",
       "      <td>1.000000</td>\n",
       "      <td>0.446079</td>\n",
       "      <td>0.448211</td>\n",
       "      <td>0.605853</td>\n",
       "    </tr>\n",
       "    <tr>\n",
       "      <th>X5</th>\n",
       "      <td>0.032960</td>\n",
       "      <td>0.052285</td>\n",
       "      <td>-0.590426</td>\n",
       "      <td>0.446079</td>\n",
       "      <td>1.000000</td>\n",
       "      <td>0.412657</td>\n",
       "      <td>0.571849</td>\n",
       "    </tr>\n",
       "    <tr>\n",
       "      <th>X6</th>\n",
       "      <td>-0.043740</td>\n",
       "      <td>-0.053527</td>\n",
       "      <td>-0.806768</td>\n",
       "      <td>0.448211</td>\n",
       "      <td>0.412657</td>\n",
       "      <td>1.000000</td>\n",
       "      <td>0.554585</td>\n",
       "    </tr>\n",
       "    <tr>\n",
       "      <th>Y</th>\n",
       "      <td>0.067013</td>\n",
       "      <td>-0.242852</td>\n",
       "      <td>-0.701349</td>\n",
       "      <td>0.605853</td>\n",
       "      <td>0.571849</td>\n",
       "      <td>0.554585</td>\n",
       "      <td>1.000000</td>\n",
       "    </tr>\n",
       "  </tbody>\n",
       "</table>\n",
       "</div>"
      ],
      "text/plain": [
       "          X1        X2        X3        X4        X5        X6         Y\n",
       "X1  1.000000  0.010083  0.065700  0.002447  0.032960 -0.043740  0.067013\n",
       "X2  0.010083  1.000000  0.030167  0.035385  0.052285 -0.053527 -0.242852\n",
       "X3  0.065700  0.030167  1.000000 -0.604710 -0.590426 -0.806768 -0.701349\n",
       "X4  0.002447  0.035385 -0.604710  1.000000  0.446079  0.448211  0.605853\n",
       "X5  0.032960  0.052285 -0.590426  0.446079  1.000000  0.412657  0.571849\n",
       "X6 -0.043740 -0.053527 -0.806768  0.448211  0.412657  1.000000  0.554585\n",
       "Y   0.067013 -0.242852 -0.701349  0.605853  0.571849  0.554585  1.000000"
      ]
     },
     "execution_count": 22,
     "metadata": {},
     "output_type": "execute_result"
    }
   ],
   "source": [
    "df.corr()"
   ]
  },
  {
   "cell_type": "code",
   "execution_count": 23,
   "id": "87639240",
   "metadata": {
    "execution": {
     "iopub.execute_input": "2023-02-03T14:51:16.171722Z",
     "iopub.status.busy": "2023-02-03T14:51:16.171271Z",
     "iopub.status.idle": "2023-02-03T14:51:16.584282Z",
     "shell.execute_reply": "2023-02-03T14:51:16.583051Z"
    },
    "id": "qZYn_gGrYsK8",
    "outputId": "aa2a40a5-a880-4cd8-b77d-a88fcb0f7f39",
    "papermill": {
     "duration": 0.444974,
     "end_time": "2023-02-03T14:51:16.586912",
     "exception": false,
     "start_time": "2023-02-03T14:51:16.141938",
     "status": "completed"
    },
    "tags": []
   },
   "outputs": [
    {
     "name": "stderr",
     "output_type": "stream",
     "text": [
      "/opt/conda/lib/python3.7/site-packages/ipykernel_launcher.py:5: DeprecationWarning: `np.bool` is a deprecated alias for the builtin `bool`. To silence this warning, use `bool` by itself. Doing this will not modify any behavior and is safe. If you specifically wanted the numpy scalar type, use `np.bool_` here.\n",
      "Deprecated in NumPy 1.20; for more details and guidance: https://numpy.org/devdocs/release/1.20.0-notes.html#deprecations\n",
      "  \"\"\"\n"
     ]
    },
    {
     "data": {
      "text/plain": [
       "(array([0.5, 1.5, 2.5, 3.5, 4.5, 5.5, 6.5]),\n",
       " [Text(0, 0.5, 'X1'),\n",
       "  Text(0, 1.5, 'X2'),\n",
       "  Text(0, 2.5, 'X3'),\n",
       "  Text(0, 3.5, 'X4'),\n",
       "  Text(0, 4.5, 'X5'),\n",
       "  Text(0, 5.5, 'X6'),\n",
       "  Text(0, 6.5, 'Y')])"
      ]
     },
     "execution_count": 23,
     "metadata": {},
     "output_type": "execute_result"
    },
    {
     "data": {
      "image/png": "[encoded data removed]",
      "text/plain": [
       "<Figure size 1296x720 with 2 Axes>"
      ]
     },
     "metadata": {
      "needs_background": "light"
     },
     "output_type": "display_data"
    }
   ],
   "source": [
    "#Heatmap Correlation\n",
    "import seaborn as sns\n",
    "corr = df.corr()\n",
    "# Generate a mask for the upper triangle\n",
    "mask = np.zeros_like(corr, dtype=np.bool)\n",
    "mask[np.triu_indices_from(mask)] = True\n",
    "\n",
    "# Set up the matplotlib figure\n",
    "f, ax = plt.subplots(figsize=(18, 10))\n",
    "\n",
    "# Generate a custom diverging colormap\n",
    "cmap = sns.diverging_palette(220,10, as_cmap=True)\n",
    "\n",
    "# Draw the heatmap with the mask and correct aspect ratio\n",
    "sns.heatmap(corr, mask=mask,cmap=\"RdYlGn\", vmin=-1, vmax=1, center=0, cbar=True, annot =True,\n",
    "            square=True, linewidths=.5, annot_kws={\"size\": 15})\n",
    "plt.xticks(rotation=90, fontsize=15)\n",
    "plt.title('Heatmap Correlation', fontsize=22)\n",
    "plt.yticks(fontsize=15)"
   ]
  },
  {
   "cell_type": "markdown",
   "id": "ad3c7b87",
   "metadata": {
    "id": "l2R6IacZwOQQ",
    "papermill": {
     "duration": 0.027506,
     "end_time": "2023-02-03T14:51:16.641932",
     "exception": false,
     "start_time": "2023-02-03T14:51:16.614426",
     "status": "completed"
    },
    "tags": []
   },
   "source": [
    "Key takeaway: \n",
    "* From the correlation test, it can be determined that there is a relationship between variables X3, X4, X5, and X6 with variable Y.\n",
    "* X3 and Y have a negative correlation coefficient (-0.67), which means the distance to the nearest MRT station is negatively related to the size of the housing unit price. The closer the housing area is to the MRT station, the higher the price of the house, and vice versa."
   ]
  },
  {
   "cell_type": "markdown",
   "id": "790d2558",
   "metadata": {
    "id": "LdKeiam2ibOW",
    "papermill": {
     "duration": 0.027058,
     "end_time": "2023-02-03T14:51:16.696691",
     "exception": false,
     "start_time": "2023-02-03T14:51:16.669633",
     "status": "completed"
    },
    "tags": []
   },
   "source": [
    "### X2 vs Y"
   ]
  },
  {
   "cell_type": "code",
   "execution_count": 24,
   "id": "01eef791",
   "metadata": {
    "execution": {
     "iopub.execute_input": "2023-02-03T14:51:16.753476Z",
     "iopub.status.busy": "2023-02-03T14:51:16.753045Z",
     "iopub.status.idle": "2023-02-03T14:51:16.758088Z",
     "shell.execute_reply": "2023-02-03T14:51:16.757004Z"
    },
    "id": "PHOCao8HwOQR",
    "papermill": {
     "duration": 0.036239,
     "end_time": "2023-02-03T14:51:16.760364",
     "exception": false,
     "start_time": "2023-02-03T14:51:16.724125",
     "status": "completed"
    },
    "tags": []
   },
   "outputs": [],
   "source": [
    "import matplotlib.pyplot as plt"
   ]
  },
  {
   "cell_type": "code",
   "execution_count": 25,
   "id": "16d2f944",
   "metadata": {
    "execution": {
     "iopub.execute_input": "2023-02-03T14:51:16.818151Z",
     "iopub.status.busy": "2023-02-03T14:51:16.817427Z",
     "iopub.status.idle": "2023-02-03T14:51:17.022767Z",
     "shell.execute_reply": "2023-02-03T14:51:17.021825Z"
    },
    "id": "LvFTOJ8mwOQR",
    "outputId": "c7d26110-fb22-4bdd-9878-18f139e5e763",
    "papermill": {
     "duration": 0.236251,
     "end_time": "2023-02-03T14:51:17.024938",
     "exception": false,
     "start_time": "2023-02-03T14:51:16.788687",
     "status": "completed"
    },
    "tags": []
   },
   "outputs": [
    {
     "data": {
      "text/plain": [
       "<matplotlib.collections.PathCollection at 0x7f9801d1b690>"
      ]
     },
     "execution_count": 25,
     "metadata": {},
     "output_type": "execute_result"
    },
    {
     "data": {
      "image/png": "[encoded data removed]",
      "text/plain": [
       "<Figure size 432x288 with 1 Axes>"
      ]
     },
     "metadata": {
      "needs_background": "light"
     },
     "output_type": "display_data"
    }
   ],
   "source": [
    "#House Age vs House Price Plot\n",
    "plt.scatter(df['X2'],df['Y'])"
   ]
  },
  {
   "cell_type": "code",
   "execution_count": 26,
   "id": "fae2ed13",
   "metadata": {
    "execution": {
     "iopub.execute_input": "2023-02-03T14:51:17.083299Z",
     "iopub.status.busy": "2023-02-03T14:51:17.082566Z",
     "iopub.status.idle": "2023-02-03T14:51:17.770215Z",
     "shell.execute_reply": "2023-02-03T14:51:17.769003Z"
    },
    "id": "EoAOnfoYXW5V",
    "outputId": "983461eb-2170-4594-edcc-26dcb46b4f4e",
    "papermill": {
     "duration": 0.720006,
     "end_time": "2023-02-03T14:51:17.773109",
     "exception": false,
     "start_time": "2023-02-03T14:51:17.053103",
     "status": "completed"
    },
    "tags": []
   },
   "outputs": [
    {
     "data": {
      "text/plain": [
       "<seaborn.axisgrid.JointGrid at 0x7f9801cd57d0>"
      ]
     },
     "execution_count": 26,
     "metadata": {},
     "output_type": "execute_result"
    },
    {
     "data": {
      "image/png": "[encoded data removed]",
      "text/plain": [
       "<Figure size 432x432 with 3 Axes>"
      ]
     },
     "metadata": {
      "needs_background": "light"
     },
     "output_type": "display_data"
    }
   ],
   "source": [
    "import seaborn as sns\n",
    "#create scatterplot with regression line & dist and confidence interval lines\n",
    "sns.jointplot(x='X2', y='Y', data=df, kind=\"reg\")"
   ]
  },
  {
   "cell_type": "markdown",
   "id": "c9bc92bf",
   "metadata": {
    "id": "bV4g8hVFwOQS",
    "papermill": {
     "duration": 0.030011,
     "end_time": "2023-02-03T14:51:17.832909",
     "exception": false,
     "start_time": "2023-02-03T14:51:17.802898",
     "status": "completed"
    },
    "tags": []
   },
   "source": [
    "Key takeaway: \n",
    "* House Age (X2) doesn't show a correlation with house price (Y) because of its small corr value."
   ]
  },
  {
   "cell_type": "markdown",
   "id": "39138253",
   "metadata": {
    "id": "1Pu0r4p7igpk",
    "papermill": {
     "duration": 0.028831,
     "end_time": "2023-02-03T14:51:17.890691",
     "exception": false,
     "start_time": "2023-02-03T14:51:17.861860",
     "status": "completed"
    },
    "tags": []
   },
   "source": [
    "### X3 vs Y"
   ]
  },
  {
   "cell_type": "code",
   "execution_count": 27,
   "id": "156839bf",
   "metadata": {
    "execution": {
     "iopub.execute_input": "2023-02-03T14:51:17.952121Z",
     "iopub.status.busy": "2023-02-03T14:51:17.951234Z",
     "iopub.status.idle": "2023-02-03T14:51:18.165953Z",
     "shell.execute_reply": "2023-02-03T14:51:18.164478Z"
    },
    "id": "lYgQuCXTwOQT",
    "outputId": "5ef7190f-64ed-4995-f9d1-c8815e890be8",
    "papermill": {
     "duration": 0.248114,
     "end_time": "2023-02-03T14:51:18.168813",
     "exception": false,
     "start_time": "2023-02-03T14:51:17.920699",
     "status": "completed"
    },
    "tags": []
   },
   "outputs": [
    {
     "data": {
      "text/plain": [
       "<matplotlib.collections.PathCollection at 0x7f9801ad4a10>"
      ]
     },
     "execution_count": 27,
     "metadata": {},
     "output_type": "execute_result"
    },
    {
     "data": {
      "image/png": "[encoded data removed]",
      "text/plain": [
       "<Figure size 432x288 with 1 Axes>"
      ]
     },
     "metadata": {
      "needs_background": "light"
     },
     "output_type": "display_data"
    }
   ],
   "source": [
    "#distance to the nearest MRT station vs House Price Plot\n",
    "plt.scatter(df['X3'],df['Y'])"
   ]
  },
  {
   "cell_type": "code",
   "execution_count": 28,
   "id": "92d45d83",
   "metadata": {
    "execution": {
     "iopub.execute_input": "2023-02-03T14:51:18.230439Z",
     "iopub.status.busy": "2023-02-03T14:51:18.229754Z",
     "iopub.status.idle": "2023-02-03T14:51:19.075374Z",
     "shell.execute_reply": "2023-02-03T14:51:19.073921Z"
    },
    "id": "bS-3DPGRYAEE",
    "outputId": "8298abca-7994-46fd-c95f-83e48d825792",
    "papermill": {
     "duration": 0.879261,
     "end_time": "2023-02-03T14:51:19.078187",
     "exception": false,
     "start_time": "2023-02-03T14:51:18.198926",
     "status": "completed"
    },
    "tags": []
   },
   "outputs": [
    {
     "data": {
      "text/plain": [
       "<seaborn.axisgrid.JointGrid at 0x7f9801b5c9d0>"
      ]
     },
     "execution_count": 28,
     "metadata": {},
     "output_type": "execute_result"
    },
    {
     "data": {
      "image/png": "[encoded data removed]",
      "text/plain": [
       "<Figure size 432x432 with 3 Axes>"
      ]
     },
     "metadata": {
      "needs_background": "light"
     },
     "output_type": "display_data"
    }
   ],
   "source": [
    "#create scatterplot with regression line & dist and confidence interval lines\n",
    "sns.jointplot(x='X3', y='Y', data=df, kind=\"reg\")"
   ]
  },
  {
   "cell_type": "markdown",
   "id": "bfc5e64a",
   "metadata": {
    "id": "zK_o2O3wwOQU",
    "papermill": {
     "duration": 0.029481,
     "end_time": "2023-02-03T14:51:19.137787",
     "exception": false,
     "start_time": "2023-02-03T14:51:19.108306",
     "status": "completed"
    },
    "tags": []
   },
   "source": [
    "Key takeaway: \n",
    "* There is a negative relationship between the distance to the MRT (X3) around the housing area and the house price per unit (Y). In other words, the closer the distance to the MRT, the higher the house price or the further the distance to the MRT, the lower the house price."
   ]
  },
  {
   "cell_type": "markdown",
   "id": "d2b04f86",
   "metadata": {
    "id": "HLv425GDipDm",
    "papermill": {
     "duration": 0.02978,
     "end_time": "2023-02-03T14:51:19.197468",
     "exception": false,
     "start_time": "2023-02-03T14:51:19.167688",
     "status": "completed"
    },
    "tags": []
   },
   "source": [
    "### X4 vs Y"
   ]
  },
  {
   "cell_type": "code",
   "execution_count": 29,
   "id": "4dfc49a3",
   "metadata": {
    "execution": {
     "iopub.execute_input": "2023-02-03T14:51:19.259242Z",
     "iopub.status.busy": "2023-02-03T14:51:19.258851Z",
     "iopub.status.idle": "2023-02-03T14:51:19.411739Z",
     "shell.execute_reply": "2023-02-03T14:51:19.410747Z"
    },
    "id": "be1qSMMMwOQU",
    "outputId": "c1c13156-eaed-44a7-b6ed-8aa913c89c6f",
    "papermill": {
     "duration": 0.187141,
     "end_time": "2023-02-03T14:51:19.414298",
     "exception": false,
     "start_time": "2023-02-03T14:51:19.227157",
     "status": "completed"
    },
    "tags": []
   },
   "outputs": [
    {
     "data": {
      "text/plain": [
       "<matplotlib.collections.PathCollection at 0x7f97f98e3e90>"
      ]
     },
     "execution_count": 29,
     "metadata": {},
     "output_type": "execute_result"
    },
    {
     "data": {
      "image/png": "[encoded data removed]",
      "text/plain": [
       "<Figure size 432x288 with 1 Axes>"
      ]
     },
     "metadata": {
      "needs_background": "light"
     },
     "output_type": "display_data"
    }
   ],
   "source": [
    "#number of convenience stores vs House Price\n",
    "plt.scatter(df['X4'],df['Y'])"
   ]
  },
  {
   "cell_type": "code",
   "execution_count": 30,
   "id": "35b39397",
   "metadata": {
    "execution": {
     "iopub.execute_input": "2023-02-03T14:51:19.480077Z",
     "iopub.status.busy": "2023-02-03T14:51:19.479336Z",
     "iopub.status.idle": "2023-02-03T14:51:20.061785Z",
     "shell.execute_reply": "2023-02-03T14:51:20.060453Z"
    },
    "id": "C1vwYcmPYNZC",
    "outputId": "38214981-7e7f-44f8-a9a8-8143269ba00b",
    "papermill": {
     "duration": 0.619659,
     "end_time": "2023-02-03T14:51:20.064513",
     "exception": false,
     "start_time": "2023-02-03T14:51:19.444854",
     "status": "completed"
    },
    "tags": []
   },
   "outputs": [
    {
     "data": {
      "text/plain": [
       "<seaborn.axisgrid.JointGrid at 0x7f97f988fe10>"
      ]
     },
     "execution_count": 30,
     "metadata": {},
     "output_type": "execute_result"
    },
    {
     "data": {
      "image/png": "[encoded data removed]",
      "text/plain": [
       "<Figure size 432x432 with 3 Axes>"
      ]
     },
     "metadata": {
      "needs_background": "light"
     },
     "output_type": "display_data"
    }
   ],
   "source": [
    "#create scatterplot with regression line & dist and confidence interval lines\n",
    "sns.jointplot(x='X4', y='Y', data=df, kind=\"reg\")"
   ]
  },
  {
   "cell_type": "markdown",
   "id": "d310bd1f",
   "metadata": {
    "id": "Sc1Uur5HwOQV",
    "papermill": {
     "duration": 0.033644,
     "end_time": "2023-02-03T14:51:20.130610",
     "exception": false,
     "start_time": "2023-02-03T14:51:20.096966",
     "status": "completed"
    },
    "tags": []
   },
   "source": [
    "Key takeaway: \n",
    "* There is a positive relationship between the number of shopping centers (X4) around the housing area and the house price (Y). It can be said that the more shopping centers there are, the higher the house price will be, and vice versa."
   ]
  },
  {
   "cell_type": "markdown",
   "id": "c428af1f",
   "metadata": {
    "id": "rC131Zi-iuJV",
    "papermill": {
     "duration": 0.031949,
     "end_time": "2023-02-03T14:51:20.196086",
     "exception": false,
     "start_time": "2023-02-03T14:51:20.164137",
     "status": "completed"
    },
    "tags": []
   },
   "source": [
    "### X5 vs Y"
   ]
  },
  {
   "cell_type": "code",
   "execution_count": 31,
   "id": "f9370571",
   "metadata": {
    "execution": {
     "iopub.execute_input": "2023-02-03T14:51:20.262115Z",
     "iopub.status.busy": "2023-02-03T14:51:20.261310Z",
     "iopub.status.idle": "2023-02-03T14:51:20.400530Z",
     "shell.execute_reply": "2023-02-03T14:51:20.398862Z"
    },
    "id": "oN71moemwOQW",
    "outputId": "0ad6194b-b6d2-4ef3-e3e7-8a2ca64e603b",
    "papermill": {
     "duration": 0.175528,
     "end_time": "2023-02-03T14:51:20.403283",
     "exception": false,
     "start_time": "2023-02-03T14:51:20.227755",
     "status": "completed"
    },
    "tags": []
   },
   "outputs": [
    {
     "data": {
      "text/plain": [
       "<matplotlib.collections.PathCollection at 0x7f97f9682a10>"
      ]
     },
     "execution_count": 31,
     "metadata": {},
     "output_type": "execute_result"
    },
    {
     "data": {
      "image/png": "[encoded data removed]",
      "text/plain": [
       "<Figure size 432x288 with 1 Axes>"
      ]
     },
     "metadata": {
      "needs_background": "light"
     },
     "output_type": "display_data"
    }
   ],
   "source": [
    "#Latitude vs House Price\n",
    "plt.scatter(df['X5'],df['Y'])"
   ]
  },
  {
   "cell_type": "code",
   "execution_count": 32,
   "id": "0f3b7ff5",
   "metadata": {
    "execution": {
     "iopub.execute_input": "2023-02-03T14:51:20.471566Z",
     "iopub.status.busy": "2023-02-03T14:51:20.470265Z",
     "iopub.status.idle": "2023-02-03T14:51:21.087342Z",
     "shell.execute_reply": "2023-02-03T14:51:21.086107Z"
    },
    "id": "S7TorDA6YXcZ",
    "outputId": "9668d225-69aa-464c-aa2c-43d31e8258e9",
    "papermill": {
     "duration": 0.654873,
     "end_time": "2023-02-03T14:51:21.090665",
     "exception": false,
     "start_time": "2023-02-03T14:51:20.435792",
     "status": "completed"
    },
    "tags": []
   },
   "outputs": [
    {
     "data": {
      "text/plain": [
       "<seaborn.axisgrid.JointGrid at 0x7f97f96aea10>"
      ]
     },
     "execution_count": 32,
     "metadata": {},
     "output_type": "execute_result"
    },
    {
     "data": {
      "image/png": "[encoded data removed]",
      "text/plain": [
       "<Figure size 432x432 with 3 Axes>"
      ]
     },
     "metadata": {
      "needs_background": "light"
     },
     "output_type": "display_data"
    }
   ],
   "source": [
    "#create scatterplot with regression line & dist and confidence interval lines\n",
    "sns.jointplot(x='X5', y='Y', data=df, kind=\"reg\")"
   ]
  },
  {
   "cell_type": "markdown",
   "id": "fa430776",
   "metadata": {
    "id": "437T-7P4wOQW",
    "papermill": {
     "duration": 0.036703,
     "end_time": "2023-02-03T14:51:21.163365",
     "exception": false,
     "start_time": "2023-02-03T14:51:21.126662",
     "status": "completed"
    },
    "tags": []
   },
   "source": [
    "Key takeaway: \n",
    "* There is a positive relationship between latitude (geographic location) and house price."
   ]
  },
  {
   "cell_type": "markdown",
   "id": "eec449f3",
   "metadata": {
    "id": "MsY5o2roiynB",
    "papermill": {
     "duration": 0.033557,
     "end_time": "2023-02-03T14:51:21.229619",
     "exception": false,
     "start_time": "2023-02-03T14:51:21.196062",
     "status": "completed"
    },
    "tags": []
   },
   "source": [
    "### X6 vs Y"
   ]
  },
  {
   "cell_type": "code",
   "execution_count": 33,
   "id": "aa5a312f",
   "metadata": {
    "execution": {
     "iopub.execute_input": "2023-02-03T14:51:21.298085Z",
     "iopub.status.busy": "2023-02-03T14:51:21.297358Z",
     "iopub.status.idle": "2023-02-03T14:51:21.489625Z",
     "shell.execute_reply": "2023-02-03T14:51:21.486477Z"
    },
    "id": "arrxlI1KwOQX",
    "outputId": "204c5c08-2193-49d8-fbb5-5aaabedafb90",
    "papermill": {
     "duration": 0.230699,
     "end_time": "2023-02-03T14:51:21.493164",
     "exception": false,
     "start_time": "2023-02-03T14:51:21.262465",
     "status": "completed"
    },
    "tags": []
   },
   "outputs": [
    {
     "data": {
      "text/plain": [
       "<matplotlib.collections.PathCollection at 0x7f97f94a0b10>"
      ]
     },
     "execution_count": 33,
     "metadata": {},
     "output_type": "execute_result"
    },
    {
     "data": {
      "image/png": "[encoded data removed]",
      "text/plain": [
       "<Figure size 432x288 with 1 Axes>"
      ]
     },
     "metadata": {
      "needs_background": "light"
     },
     "output_type": "display_data"
    }
   ],
   "source": [
    "#Longitude vs House Price\n",
    "plt.scatter(df['X6'], df['Y'])"
   ]
  },
  {
   "cell_type": "code",
   "execution_count": 34,
   "id": "5d2f2288",
   "metadata": {
    "execution": {
     "iopub.execute_input": "2023-02-03T14:51:21.569397Z",
     "iopub.status.busy": "2023-02-03T14:51:21.568213Z",
     "iopub.status.idle": "2023-02-03T14:51:22.298872Z",
     "shell.execute_reply": "2023-02-03T14:51:22.297855Z"
    },
    "id": "MiQ2zxtIYc4-",
    "outputId": "5ca99e87-7f1a-47ec-b07f-6a05c9c5b6ea",
    "papermill": {
     "duration": 0.769809,
     "end_time": "2023-02-03T14:51:22.301320",
     "exception": false,
     "start_time": "2023-02-03T14:51:21.531511",
     "status": "completed"
    },
    "tags": []
   },
   "outputs": [
    {
     "data": {
      "text/plain": [
       "<seaborn.axisgrid.JointGrid at 0x7f97f94e20d0>"
      ]
     },
     "execution_count": 34,
     "metadata": {},
     "output_type": "execute_result"
    },
    {
     "data": {
      "image/png": "[encoded data removed]",
      "text/plain": [
       "<Figure size 432x432 with 3 Axes>"
      ]
     },
     "metadata": {
      "needs_background": "light"
     },
     "output_type": "display_data"
    }
   ],
   "source": [
    "#create scatterplot with regression line & dist and confidence interval lines\n",
    "sns.jointplot(x='X6', y='Y', data=df, kind=\"reg\")"
   ]
  },
  {
   "cell_type": "markdown",
   "id": "22b2f808",
   "metadata": {
    "id": "Vb73JeSnwOQX",
    "papermill": {
     "duration": 0.034904,
     "end_time": "2023-02-03T14:51:22.372065",
     "exception": false,
     "start_time": "2023-02-03T14:51:22.337161",
     "status": "completed"
    },
    "tags": []
   },
   "source": [
    "Key takeaway: \n",
    "* There is a positive or aligned relationship between longitude (map location) and house price."
   ]
  },
  {
   "cell_type": "markdown",
   "id": "1fd2badf",
   "metadata": {
    "id": "efhQjU6JLkN-",
    "papermill": {
     "duration": 0.034187,
     "end_time": "2023-02-03T14:51:22.441263",
     "exception": false,
     "start_time": "2023-02-03T14:51:22.407076",
     "status": "completed"
    },
    "tags": []
   },
   "source": [
    "Conclusion: \n",
    "\n",
    "There are variables that have a correlation with the House Price (Y), they are:\n",
    "1. X3 (distance to MRT)\n",
    "2. X4 (number of shopping centers)\n",
    "3. X5 (latitude)\n",
    "4. X6 (longitude)\n",
    "\n",
    "Where X3 (distance to MRT) is the only variable with a negative correlation."
   ]
  },
  {
   "cell_type": "markdown",
   "id": "b2c726f7",
   "metadata": {
    "id": "g9mRaTsYndt9",
    "papermill": {
     "duration": 0.034218,
     "end_time": "2023-02-03T14:51:22.509532",
     "exception": false,
     "start_time": "2023-02-03T14:51:22.475314",
     "status": "completed"
    },
    "tags": []
   },
   "source": [
    "## Feature Engineering:"
   ]
  },
  {
   "cell_type": "markdown",
   "id": "80dfcff5",
   "metadata": {
    "id": "t-rMoGcfndt9",
    "papermill": {
     "duration": 0.034032,
     "end_time": "2023-02-03T14:51:22.578003",
     "exception": false,
     "start_time": "2023-02-03T14:51:22.543971",
     "status": "completed"
    },
    "tags": []
   },
   "source": [
    "###  Checking Multicolinearity"
   ]
  },
  {
   "cell_type": "code",
   "execution_count": 35,
   "id": "d3d30a70",
   "metadata": {
    "execution": {
     "iopub.execute_input": "2023-02-03T14:51:22.654539Z",
     "iopub.status.busy": "2023-02-03T14:51:22.653059Z",
     "iopub.status.idle": "2023-02-03T14:51:22.658421Z",
     "shell.execute_reply": "2023-02-03T14:51:22.657430Z"
    },
    "id": "LmX1Ia8XwOQZ",
    "papermill": {
     "duration": 0.046279,
     "end_time": "2023-02-03T14:51:22.660886",
     "exception": false,
     "start_time": "2023-02-03T14:51:22.614607",
     "status": "completed"
    },
    "tags": []
   },
   "outputs": [],
   "source": [
    "import seaborn as sns"
   ]
  },
  {
   "cell_type": "code",
   "execution_count": 36,
   "id": "0716d5c6",
   "metadata": {
    "execution": {
     "iopub.execute_input": "2023-02-03T14:51:22.731940Z",
     "iopub.status.busy": "2023-02-03T14:51:22.730925Z",
     "iopub.status.idle": "2023-02-03T14:51:23.167315Z",
     "shell.execute_reply": "2023-02-03T14:51:23.166044Z"
    },
    "id": "NCJOyIwHndt9",
    "outputId": "082883d4-f859-4ae3-a98f-5cf939f8b299",
    "papermill": {
     "duration": 0.4746,
     "end_time": "2023-02-03T14:51:23.169771",
     "exception": false,
     "start_time": "2023-02-03T14:51:22.695171",
     "status": "completed"
    },
    "tags": []
   },
   "outputs": [
    {
     "data": {
      "text/plain": [
       "Text(0.5, 1.0, 'Correlation Matrix antara variable X')"
      ]
     },
     "execution_count": 36,
     "metadata": {},
     "output_type": "execute_result"
    },
    {
     "data": {
      "image/png": "[encoded data removed]",
      "text/plain": [
       "<Figure size 1120x320 with 2 Axes>"
      ]
     },
     "metadata": {
      "needs_background": "light"
     },
     "output_type": "display_data"
    }
   ],
   "source": [
    "fig, ax = plt.subplots(figsize=(14,4), dpi=80)\n",
    "sns.heatmap(df.loc[:, 'X1':'X6'].corr(), cmap=\"YlGnBu\",annot=True)\n",
    "plt.title('Correlation Matrix antara variable X')"
   ]
  },
  {
   "cell_type": "markdown",
   "id": "1ebbd76e",
   "metadata": {
    "id": "b2z8zTLpndt-",
    "papermill": {
     "duration": 0.034256,
     "end_time": "2023-02-03T14:51:23.239320",
     "exception": false,
     "start_time": "2023-02-03T14:51:23.205064",
     "status": "completed"
    },
    "tags": []
   },
   "source": [
    "Key takeaway:\n",
    "* Between all the independent variables, multicollinearity appears between variables X3 and X6 with a value of -0.62. This means that the distance to the MRT and longitude have a high correlation."
   ]
  },
  {
   "cell_type": "markdown",
   "id": "1c44d9d3",
   "metadata": {
    "id": "_43i3un3M5kI",
    "papermill": {
     "duration": 0.034886,
     "end_time": "2023-02-03T14:51:23.308565",
     "exception": false,
     "start_time": "2023-02-03T14:51:23.273679",
     "status": "completed"
    },
    "tags": []
   },
   "source": [
    "Decision -> \n",
    "\n",
    "From the Heat Map Corr, it can be seen that X3 has a higher correlation (-0.67) compared to X6 (0.52). The decision that can be made is to remove the X6 variable. To see the relationship of one of the variables (whether X3 or X6) with the target variable (Y), take one of the variables and then look at the relationship between the two."
   ]
  },
  {
   "cell_type": "markdown",
   "id": "e135aa38",
   "metadata": {
    "id": "JaM5xtnLwOQb",
    "papermill": {
     "duration": 0.048886,
     "end_time": "2023-02-03T14:51:23.392635",
     "exception": false,
     "start_time": "2023-02-03T14:51:23.343749",
     "status": "completed"
    },
    "tags": []
   },
   "source": [
    "# 3. Data Preprocessing"
   ]
  },
  {
   "cell_type": "markdown",
   "id": "04597e0a",
   "metadata": {
    "id": "xh88Wd0ywOQb",
    "papermill": {
     "duration": 0.036102,
     "end_time": "2023-02-03T14:51:23.468845",
     "exception": false,
     "start_time": "2023-02-03T14:51:23.432743",
     "status": "completed"
    },
    "tags": []
   },
   "source": [
    "### Check null values"
   ]
  },
  {
   "cell_type": "code",
   "execution_count": 37,
   "id": "89c817b2",
   "metadata": {
    "execution": {
     "iopub.execute_input": "2023-02-03T14:51:23.546849Z",
     "iopub.status.busy": "2023-02-03T14:51:23.545954Z",
     "iopub.status.idle": "2023-02-03T14:51:23.557766Z",
     "shell.execute_reply": "2023-02-03T14:51:23.556560Z"
    },
    "id": "rSqNYoBCwOQb",
    "outputId": "ea03f94b-ec42-4d74-fd35-dd52e9dd3ab0",
    "papermill": {
     "duration": 0.052057,
     "end_time": "2023-02-03T14:51:23.560563",
     "exception": false,
     "start_time": "2023-02-03T14:51:23.508506",
     "status": "completed"
    },
    "tags": []
   },
   "outputs": [
    {
     "data": {
      "text/plain": [
       "X1    0\n",
       "X2    0\n",
       "X3    0\n",
       "X4    0\n",
       "X5    0\n",
       "X6    0\n",
       "Y     0\n",
       "dtype: int64"
      ]
     },
     "execution_count": 37,
     "metadata": {},
     "output_type": "execute_result"
    }
   ],
   "source": [
    "df.isna().sum().sort_values(ascending=False)"
   ]
  },
  {
   "cell_type": "markdown",
   "id": "5e7a86de",
   "metadata": {
    "id": "5kzFns_jjc7H",
    "papermill": {
     "duration": 0.042036,
     "end_time": "2023-02-03T14:51:23.639638",
     "exception": false,
     "start_time": "2023-02-03T14:51:23.597602",
     "status": "completed"
    },
    "tags": []
   },
   "source": [
    "Key takeaway:\n",
    "* There is no null or NaN value"
   ]
  },
  {
   "cell_type": "markdown",
   "id": "97f7e023",
   "metadata": {
    "id": "wuS9VtkehKKi",
    "papermill": {
     "duration": 0.035617,
     "end_time": "2023-02-03T14:51:23.710298",
     "exception": false,
     "start_time": "2023-02-03T14:51:23.674681",
     "status": "completed"
    },
    "tags": []
   },
   "source": [
    "### Data Conversion"
   ]
  },
  {
   "cell_type": "code",
   "execution_count": 38,
   "id": "b27fdc74",
   "metadata": {
    "execution": {
     "iopub.execute_input": "2023-02-03T14:51:23.790980Z",
     "iopub.status.busy": "2023-02-03T14:51:23.790004Z",
     "iopub.status.idle": "2023-02-03T14:51:23.807728Z",
     "shell.execute_reply": "2023-02-03T14:51:23.805901Z"
    },
    "id": "XWa5VbfhwOQc",
    "outputId": "bd664f80-5895-42e9-960d-66ea320beb3c",
    "papermill": {
     "duration": 0.060793,
     "end_time": "2023-02-03T14:51:23.810333",
     "exception": false,
     "start_time": "2023-02-03T14:51:23.749540",
     "status": "completed"
    },
    "tags": []
   },
   "outputs": [
    {
     "name": "stdout",
     "output_type": "stream",
     "text": [
      "<class 'pandas.core.frame.DataFrame'>\n",
      "Int64Index: 411 entries, 0 to 413\n",
      "Data columns (total 7 columns):\n",
      " #   Column  Non-Null Count  Dtype  \n",
      "---  ------  --------------  -----  \n",
      " 0   X1      411 non-null    float64\n",
      " 1   X2      411 non-null    float64\n",
      " 2   X3      411 non-null    float64\n",
      " 3   X4      411 non-null    int64  \n",
      " 4   X5      411 non-null    float64\n",
      " 5   X6      411 non-null    float64\n",
      " 6   Y       411 non-null    float64\n",
      "dtypes: float64(6), int64(1)\n",
      "memory usage: 41.9 KB\n"
     ]
    }
   ],
   "source": [
    "df.info()"
   ]
  },
  {
   "cell_type": "markdown",
   "id": "6b79bf23",
   "metadata": {
    "id": "6-iTFtfYwOQd",
    "papermill": {
     "duration": 0.036198,
     "end_time": "2023-02-03T14:51:23.882921",
     "exception": false,
     "start_time": "2023-02-03T14:51:23.846723",
     "status": "completed"
    },
    "tags": []
   },
   "source": [
    "Key takeaway: \n",
    "* There is false data stype, X1 should be datetime."
   ]
  },
  {
   "cell_type": "code",
   "execution_count": 39,
   "id": "0b61f4b8",
   "metadata": {
    "execution": {
     "iopub.execute_input": "2023-02-03T14:51:23.958874Z",
     "iopub.status.busy": "2023-02-03T14:51:23.957738Z",
     "iopub.status.idle": "2023-02-03T14:51:23.968689Z",
     "shell.execute_reply": "2023-02-03T14:51:23.966891Z"
    },
    "id": "lf-wNIwfwOQd",
    "outputId": "9bf4db03-6443-42b3-8ec2-de8c25b9c52e",
    "papermill": {
     "duration": 0.053086,
     "end_time": "2023-02-03T14:51:23.971170",
     "exception": false,
     "start_time": "2023-02-03T14:51:23.918084",
     "status": "completed"
    },
    "tags": []
   },
   "outputs": [
    {
     "name": "stderr",
     "output_type": "stream",
     "text": [
      "/opt/conda/lib/python3.7/site-packages/ipykernel_launcher.py:1: SettingWithCopyWarning: \n",
      "A value is trying to be set on a copy of a slice from a DataFrame.\n",
      "Try using .loc[row_indexer,col_indexer] = value instead\n",
      "\n",
      "See the caveats in the documentation: https://pandas.pydata.org/pandas-docs/stable/user_guide/indexing.html#returning-a-view-versus-a-copy\n",
      "  \"\"\"Entry point for launching an IPython kernel.\n"
     ]
    }
   ],
   "source": [
    "df[\"X1\"] = pd.to_datetime(df[\"X1\"])"
   ]
  },
  {
   "cell_type": "code",
   "execution_count": 40,
   "id": "9ef6341d",
   "metadata": {
    "execution": {
     "iopub.execute_input": "2023-02-03T14:51:24.045728Z",
     "iopub.status.busy": "2023-02-03T14:51:24.045192Z",
     "iopub.status.idle": "2023-02-03T14:51:24.055483Z",
     "shell.execute_reply": "2023-02-03T14:51:24.053929Z"
    },
    "id": "d7dt9iKpwOQe",
    "outputId": "95215e86-d2b1-4727-b9cc-9cc59a869ce1",
    "papermill": {
     "duration": 0.050644,
     "end_time": "2023-02-03T14:51:24.058056",
     "exception": false,
     "start_time": "2023-02-03T14:51:24.007412",
     "status": "completed"
    },
    "tags": []
   },
   "outputs": [
    {
     "data": {
      "text/plain": [
       "X1    datetime64[ns]\n",
       "X2           float64\n",
       "X3           float64\n",
       "X4             int64\n",
       "X5           float64\n",
       "X6           float64\n",
       "Y            float64\n",
       "dtype: object"
      ]
     },
     "execution_count": 40,
     "metadata": {},
     "output_type": "execute_result"
    }
   ],
   "source": [
    "df.dtypes"
   ]
  },
  {
   "cell_type": "code",
   "execution_count": 41,
   "id": "b29bdea1",
   "metadata": {
    "execution": {
     "iopub.execute_input": "2023-02-03T14:51:24.132070Z",
     "iopub.status.busy": "2023-02-03T14:51:24.131507Z",
     "iopub.status.idle": "2023-02-03T14:51:24.142241Z",
     "shell.execute_reply": "2023-02-03T14:51:24.141006Z"
    },
    "id": "iJH-PfG2ZGgK",
    "outputId": "698f966c-5d8f-40f0-f536-ff0d7afe1304",
    "papermill": {
     "duration": 0.050421,
     "end_time": "2023-02-03T14:51:24.144529",
     "exception": false,
     "start_time": "2023-02-03T14:51:24.094108",
     "status": "completed"
    },
    "tags": []
   },
   "outputs": [
    {
     "data": {
      "text/plain": [
       "0     1970-01-01 00:00:00.000002012\n",
       "1     1970-01-01 00:00:00.000002012\n",
       "2     1970-01-01 00:00:00.000002013\n",
       "3     1970-01-01 00:00:00.000002013\n",
       "4     1970-01-01 00:00:00.000002012\n",
       "                   ...             \n",
       "409   1970-01-01 00:00:00.000002013\n",
       "410   1970-01-01 00:00:00.000002012\n",
       "411   1970-01-01 00:00:00.000002013\n",
       "412   1970-01-01 00:00:00.000002013\n",
       "413   1970-01-01 00:00:00.000002013\n",
       "Name: X1, Length: 411, dtype: datetime64[ns]"
      ]
     },
     "execution_count": 41,
     "metadata": {},
     "output_type": "execute_result"
    }
   ],
   "source": [
    "df.X1"
   ]
  },
  {
   "cell_type": "markdown",
   "id": "f086a44b",
   "metadata": {
    "id": "MBxmokUhWk0Z",
    "papermill": {
     "duration": 0.035862,
     "end_time": "2023-02-03T14:51:24.217039",
     "exception": false,
     "start_time": "2023-02-03T14:51:24.181177",
     "status": "completed"
    },
    "tags": []
   },
   "source": [
    "### Checking duplicate values"
   ]
  },
  {
   "cell_type": "code",
   "execution_count": 42,
   "id": "0737e333",
   "metadata": {
    "execution": {
     "iopub.execute_input": "2023-02-03T14:51:24.294065Z",
     "iopub.status.busy": "2023-02-03T14:51:24.293652Z",
     "iopub.status.idle": "2023-02-03T14:51:24.308777Z",
     "shell.execute_reply": "2023-02-03T14:51:24.307348Z"
    },
    "id": "SonTI0OPWfG-",
    "outputId": "4316d539-3e1d-4d17-da26-e1cafc155a54",
    "papermill": {
     "duration": 0.058413,
     "end_time": "2023-02-03T14:51:24.311475",
     "exception": false,
     "start_time": "2023-02-03T14:51:24.253062",
     "status": "completed"
    },
    "tags": []
   },
   "outputs": [
    {
     "data": {
      "text/html": [
       "<div>\n",
       "<style scoped>\n",
       "    .dataframe tbody tr th:only-of-type {\n",
       "        vertical-align: middle;\n",
       "    }\n",
       "\n",
       "    .dataframe tbody tr th {\n",
       "        vertical-align: top;\n",
       "    }\n",
       "\n",
       "    .dataframe thead th {\n",
       "        text-align: right;\n",
       "    }\n",
       "</style>\n",
       "<table border=\"1\" class=\"dataframe\">\n",
       "  <thead>\n",
       "    <tr style=\"text-align: right;\">\n",
       "      <th></th>\n",
       "      <th>X1</th>\n",
       "      <th>X2</th>\n",
       "      <th>X3</th>\n",
       "      <th>X4</th>\n",
       "      <th>X5</th>\n",
       "      <th>X6</th>\n",
       "      <th>Y</th>\n",
       "    </tr>\n",
       "  </thead>\n",
       "  <tbody>\n",
       "  </tbody>\n",
       "</table>\n",
       "</div>"
      ],
      "text/plain": [
       "Empty DataFrame\n",
       "Columns: [X1, X2, X3, X4, X5, X6, Y]\n",
       "Index: []"
      ]
     },
     "execution_count": 42,
     "metadata": {},
     "output_type": "execute_result"
    }
   ],
   "source": [
    "# Check duplicate values\n",
    "df[df.duplicated(keep=False)]"
   ]
  },
  {
   "cell_type": "markdown",
   "id": "20744bfb",
   "metadata": {
    "id": "zS37q_odjicB",
    "papermill": {
     "duration": 0.041615,
     "end_time": "2023-02-03T14:51:24.389364",
     "exception": false,
     "start_time": "2023-02-03T14:51:24.347749",
     "status": "completed"
    },
    "tags": []
   },
   "source": [
    "Key takeaway: \n",
    "* There is no row that shows False value or duplicate values."
   ]
  },
  {
   "cell_type": "markdown",
   "id": "e47d4cb9",
   "metadata": {
    "id": "xM6PLMOPQmw9",
    "papermill": {
     "duration": 0.042783,
     "end_time": "2023-02-03T14:51:24.484141",
     "exception": false,
     "start_time": "2023-02-03T14:51:24.441358",
     "status": "completed"
    },
    "tags": []
   },
   "source": [
    "### Feature Engineering"
   ]
  },
  {
   "cell_type": "code",
   "execution_count": 43,
   "id": "e7899d52",
   "metadata": {
    "execution": {
     "iopub.execute_input": "2023-02-03T14:51:24.558606Z",
     "iopub.status.busy": "2023-02-03T14:51:24.558176Z",
     "iopub.status.idle": "2023-02-03T14:51:24.566288Z",
     "shell.execute_reply": "2023-02-03T14:51:24.564978Z"
    },
    "id": "EOUwzr0dQqPB",
    "outputId": "070186b3-f3c3-4254-821f-7b31aed35460",
    "papermill": {
     "duration": 0.049249,
     "end_time": "2023-02-03T14:51:24.568869",
     "exception": false,
     "start_time": "2023-02-03T14:51:24.519620",
     "status": "completed"
    },
    "tags": []
   },
   "outputs": [
    {
     "data": {
      "text/plain": [
       "array(['1970-01-01T00:00:00.000002012', '1970-01-01T00:00:00.000002013'],\n",
       "      dtype='datetime64[ns]')"
      ]
     },
     "execution_count": 43,
     "metadata": {},
     "output_type": "execute_result"
    }
   ],
   "source": [
    "df.X1.unique()"
   ]
  },
  {
   "cell_type": "code",
   "execution_count": 44,
   "id": "bed30cca",
   "metadata": {
    "execution": {
     "iopub.execute_input": "2023-02-03T14:51:24.644716Z",
     "iopub.status.busy": "2023-02-03T14:51:24.644262Z",
     "iopub.status.idle": "2023-02-03T14:51:24.649421Z",
     "shell.execute_reply": "2023-02-03T14:51:24.647905Z"
    },
    "id": "75cCmk1qQsa_",
    "papermill": {
     "duration": 0.047151,
     "end_time": "2023-02-03T14:51:24.652468",
     "exception": false,
     "start_time": "2023-02-03T14:51:24.605317",
     "status": "completed"
    },
    "tags": []
   },
   "outputs": [],
   "source": [
    "#df['Year'] = pd.to_datetime(df['X1'], errors='coerce', utc=True).dt.strftime('%Y')"
   ]
  },
  {
   "cell_type": "markdown",
   "id": "f6e233da",
   "metadata": {
    "id": "kJGeZUV4nduE",
    "papermill": {
     "duration": 0.036404,
     "end_time": "2023-02-03T14:51:24.724372",
     "exception": false,
     "start_time": "2023-02-03T14:51:24.687968",
     "status": "completed"
    },
    "tags": []
   },
   "source": [
    "# 4. Model Prediction"
   ]
  },
  {
   "cell_type": "code",
   "execution_count": 45,
   "id": "bc8ad011",
   "metadata": {
    "execution": {
     "iopub.execute_input": "2023-02-03T14:51:24.801171Z",
     "iopub.status.busy": "2023-02-03T14:51:24.800767Z",
     "iopub.status.idle": "2023-02-03T14:51:24.806829Z",
     "shell.execute_reply": "2023-02-03T14:51:24.805078Z"
    },
    "id": "0qMcoF1GwOQf",
    "papermill": {
     "duration": 0.047972,
     "end_time": "2023-02-03T14:51:24.809507",
     "exception": false,
     "start_time": "2023-02-03T14:51:24.761535",
     "status": "completed"
    },
    "tags": []
   },
   "outputs": [],
   "source": [
    "X = df.loc[:, 'X3':'X5']"
   ]
  },
  {
   "cell_type": "code",
   "execution_count": 46,
   "id": "aefe44c1",
   "metadata": {
    "execution": {
     "iopub.execute_input": "2023-02-03T14:51:24.887210Z",
     "iopub.status.busy": "2023-02-03T14:51:24.886794Z",
     "iopub.status.idle": "2023-02-03T14:51:24.893370Z",
     "shell.execute_reply": "2023-02-03T14:51:24.891904Z"
    },
    "id": "zr1mxBISwOQf",
    "papermill": {
     "duration": 0.048966,
     "end_time": "2023-02-03T14:51:24.896015",
     "exception": false,
     "start_time": "2023-02-03T14:51:24.847049",
     "status": "completed"
    },
    "tags": []
   },
   "outputs": [],
   "source": [
    "y = pd.DataFrame(df['Y'])"
   ]
  },
  {
   "cell_type": "code",
   "execution_count": 47,
   "id": "ec7a1423",
   "metadata": {
    "execution": {
     "iopub.execute_input": "2023-02-03T14:51:24.973917Z",
     "iopub.status.busy": "2023-02-03T14:51:24.973472Z",
     "iopub.status.idle": "2023-02-03T14:51:25.128534Z",
     "shell.execute_reply": "2023-02-03T14:51:25.127026Z"
    },
    "id": "UrnvEHfbnduE",
    "papermill": {
     "duration": 0.198324,
     "end_time": "2023-02-03T14:51:25.131332",
     "exception": false,
     "start_time": "2023-02-03T14:51:24.933008",
     "status": "completed"
    },
    "tags": []
   },
   "outputs": [],
   "source": [
    "#membagai dataset menjadi data training dan data testing dengan proporsi 80:20)\n",
    "from sklearn.model_selection import train_test_split\n",
    "X_train, X_test, y_train, y_test = train_test_split(X, y, test_size=0.2, random_state=1)"
   ]
  },
  {
   "cell_type": "code",
   "execution_count": 48,
   "id": "f85e8558",
   "metadata": {
    "execution": {
     "iopub.execute_input": "2023-02-03T14:51:25.205512Z",
     "iopub.status.busy": "2023-02-03T14:51:25.205088Z",
     "iopub.status.idle": "2023-02-03T14:51:25.220725Z",
     "shell.execute_reply": "2023-02-03T14:51:25.219504Z"
    },
    "id": "d9kxr4CkwOQg",
    "outputId": "15dc4b3f-963c-42eb-f03a-e8923194a597",
    "papermill": {
     "duration": 0.055545,
     "end_time": "2023-02-03T14:51:25.223267",
     "exception": false,
     "start_time": "2023-02-03T14:51:25.167722",
     "status": "completed"
    },
    "tags": []
   },
   "outputs": [
    {
     "data": {
      "text/html": [
       "<div>\n",
       "<style scoped>\n",
       "    .dataframe tbody tr th:only-of-type {\n",
       "        vertical-align: middle;\n",
       "    }\n",
       "\n",
       "    .dataframe tbody tr th {\n",
       "        vertical-align: top;\n",
       "    }\n",
       "\n",
       "    .dataframe thead th {\n",
       "        text-align: right;\n",
       "    }\n",
       "</style>\n",
       "<table border=\"1\" class=\"dataframe\">\n",
       "  <thead>\n",
       "    <tr style=\"text-align: right;\">\n",
       "      <th></th>\n",
       "      <th>X3</th>\n",
       "      <th>X4</th>\n",
       "      <th>X5</th>\n",
       "    </tr>\n",
       "  </thead>\n",
       "  <tbody>\n",
       "    <tr>\n",
       "      <th>0</th>\n",
       "      <td>84.87882</td>\n",
       "      <td>10</td>\n",
       "      <td>24.98298</td>\n",
       "    </tr>\n",
       "    <tr>\n",
       "      <th>1</th>\n",
       "      <td>306.59470</td>\n",
       "      <td>9</td>\n",
       "      <td>24.98034</td>\n",
       "    </tr>\n",
       "    <tr>\n",
       "      <th>2</th>\n",
       "      <td>561.98450</td>\n",
       "      <td>5</td>\n",
       "      <td>24.98746</td>\n",
       "    </tr>\n",
       "    <tr>\n",
       "      <th>3</th>\n",
       "      <td>561.98450</td>\n",
       "      <td>5</td>\n",
       "      <td>24.98746</td>\n",
       "    </tr>\n",
       "    <tr>\n",
       "      <th>4</th>\n",
       "      <td>390.56840</td>\n",
       "      <td>5</td>\n",
       "      <td>24.97937</td>\n",
       "    </tr>\n",
       "    <tr>\n",
       "      <th>...</th>\n",
       "      <td>...</td>\n",
       "      <td>...</td>\n",
       "      <td>...</td>\n",
       "    </tr>\n",
       "    <tr>\n",
       "      <th>409</th>\n",
       "      <td>4082.01500</td>\n",
       "      <td>0</td>\n",
       "      <td>24.94155</td>\n",
       "    </tr>\n",
       "    <tr>\n",
       "      <th>410</th>\n",
       "      <td>90.45606</td>\n",
       "      <td>9</td>\n",
       "      <td>24.97433</td>\n",
       "    </tr>\n",
       "    <tr>\n",
       "      <th>411</th>\n",
       "      <td>390.96960</td>\n",
       "      <td>7</td>\n",
       "      <td>24.97923</td>\n",
       "    </tr>\n",
       "    <tr>\n",
       "      <th>412</th>\n",
       "      <td>104.81010</td>\n",
       "      <td>5</td>\n",
       "      <td>24.96674</td>\n",
       "    </tr>\n",
       "    <tr>\n",
       "      <th>413</th>\n",
       "      <td>90.45606</td>\n",
       "      <td>9</td>\n",
       "      <td>24.97433</td>\n",
       "    </tr>\n",
       "  </tbody>\n",
       "</table>\n",
       "<p>411 rows × 3 columns</p>\n",
       "</div>"
      ],
      "text/plain": [
       "             X3  X4        X5\n",
       "0      84.87882  10  24.98298\n",
       "1     306.59470   9  24.98034\n",
       "2     561.98450   5  24.98746\n",
       "3     561.98450   5  24.98746\n",
       "4     390.56840   5  24.97937\n",
       "..          ...  ..       ...\n",
       "409  4082.01500   0  24.94155\n",
       "410    90.45606   9  24.97433\n",
       "411   390.96960   7  24.97923\n",
       "412   104.81010   5  24.96674\n",
       "413    90.45606   9  24.97433\n",
       "\n",
       "[411 rows x 3 columns]"
      ]
     },
     "execution_count": 48,
     "metadata": {},
     "output_type": "execute_result"
    }
   ],
   "source": [
    "X"
   ]
  },
  {
   "cell_type": "code",
   "execution_count": 49,
   "id": "9b29f57e",
   "metadata": {
    "execution": {
     "iopub.execute_input": "2023-02-03T14:51:25.374571Z",
     "iopub.status.busy": "2023-02-03T14:51:25.373319Z",
     "iopub.status.idle": "2023-02-03T14:51:25.385801Z",
     "shell.execute_reply": "2023-02-03T14:51:25.384777Z"
    },
    "id": "LOJvM4uBwOQg",
    "outputId": "48cc110b-eb83-44df-c1e6-425e4152a3db",
    "papermill": {
     "duration": 0.127385,
     "end_time": "2023-02-03T14:51:25.388351",
     "exception": false,
     "start_time": "2023-02-03T14:51:25.260966",
     "status": "completed"
    },
    "tags": []
   },
   "outputs": [
    {
     "data": {
      "text/html": [
       "<div>\n",
       "<style scoped>\n",
       "    .dataframe tbody tr th:only-of-type {\n",
       "        vertical-align: middle;\n",
       "    }\n",
       "\n",
       "    .dataframe tbody tr th {\n",
       "        vertical-align: top;\n",
       "    }\n",
       "\n",
       "    .dataframe thead th {\n",
       "        text-align: right;\n",
       "    }\n",
       "</style>\n",
       "<table border=\"1\" class=\"dataframe\">\n",
       "  <thead>\n",
       "    <tr style=\"text-align: right;\">\n",
       "      <th></th>\n",
       "      <th>Y</th>\n",
       "    </tr>\n",
       "  </thead>\n",
       "  <tbody>\n",
       "    <tr>\n",
       "      <th>0</th>\n",
       "      <td>37.9</td>\n",
       "    </tr>\n",
       "    <tr>\n",
       "      <th>1</th>\n",
       "      <td>42.2</td>\n",
       "    </tr>\n",
       "    <tr>\n",
       "      <th>2</th>\n",
       "      <td>47.3</td>\n",
       "    </tr>\n",
       "    <tr>\n",
       "      <th>3</th>\n",
       "      <td>54.8</td>\n",
       "    </tr>\n",
       "    <tr>\n",
       "      <th>4</th>\n",
       "      <td>43.1</td>\n",
       "    </tr>\n",
       "    <tr>\n",
       "      <th>...</th>\n",
       "      <td>...</td>\n",
       "    </tr>\n",
       "    <tr>\n",
       "      <th>409</th>\n",
       "      <td>15.4</td>\n",
       "    </tr>\n",
       "    <tr>\n",
       "      <th>410</th>\n",
       "      <td>50.0</td>\n",
       "    </tr>\n",
       "    <tr>\n",
       "      <th>411</th>\n",
       "      <td>40.6</td>\n",
       "    </tr>\n",
       "    <tr>\n",
       "      <th>412</th>\n",
       "      <td>52.5</td>\n",
       "    </tr>\n",
       "    <tr>\n",
       "      <th>413</th>\n",
       "      <td>63.9</td>\n",
       "    </tr>\n",
       "  </tbody>\n",
       "</table>\n",
       "<p>411 rows × 1 columns</p>\n",
       "</div>"
      ],
      "text/plain": [
       "        Y\n",
       "0    37.9\n",
       "1    42.2\n",
       "2    47.3\n",
       "3    54.8\n",
       "4    43.1\n",
       "..    ...\n",
       "409  15.4\n",
       "410  50.0\n",
       "411  40.6\n",
       "412  52.5\n",
       "413  63.9\n",
       "\n",
       "[411 rows x 1 columns]"
      ]
     },
     "execution_count": 49,
     "metadata": {},
     "output_type": "execute_result"
    }
   ],
   "source": [
    "y"
   ]
  },
  {
   "cell_type": "markdown",
   "id": "b96cc870",
   "metadata": {
    "id": "Bjtwml_ywOQh",
    "papermill": {
     "duration": 0.03559,
     "end_time": "2023-02-03T14:51:25.461134",
     "exception": false,
     "start_time": "2023-02-03T14:51:25.425544",
     "status": "completed"
    },
    "tags": []
   },
   "source": [
    "### Feature Scaling"
   ]
  },
  {
   "cell_type": "markdown",
   "id": "7564afeb",
   "metadata": {
    "id": "1lLYd8uKRWjY",
    "papermill": {
     "duration": 0.036803,
     "end_time": "2023-02-03T14:51:25.536486",
     "exception": false,
     "start_time": "2023-02-03T14:51:25.499683",
     "status": "completed"
    },
    "tags": []
   },
   "source": [
    "FS is used because I want to find which predictor variables that have equal kontribution (Standardization)"
   ]
  },
  {
   "cell_type": "code",
   "execution_count": 50,
   "id": "02226893",
   "metadata": {
    "execution": {
     "iopub.execute_input": "2023-02-03T14:51:25.611196Z",
     "iopub.status.busy": "2023-02-03T14:51:25.610541Z",
     "iopub.status.idle": "2023-02-03T14:51:25.626002Z",
     "shell.execute_reply": "2023-02-03T14:51:25.623952Z"
    },
    "id": "C_L31BurnduF",
    "papermill": {
     "duration": 0.056838,
     "end_time": "2023-02-03T14:51:25.629052",
     "exception": false,
     "start_time": "2023-02-03T14:51:25.572214",
     "status": "completed"
    },
    "tags": []
   },
   "outputs": [],
   "source": [
    "from sklearn.preprocessing import StandardScaler\n",
    "sc = StandardScaler()\n",
    "X_train = sc.fit_transform(X_train)\n",
    "X_test = sc.fit_transform(X_test)"
   ]
  },
  {
   "cell_type": "code",
   "execution_count": 51,
   "id": "77cf5ddb",
   "metadata": {
    "execution": {
     "iopub.execute_input": "2023-02-03T14:51:25.704294Z",
     "iopub.status.busy": "2023-02-03T14:51:25.703881Z",
     "iopub.status.idle": "2023-02-03T14:51:25.710797Z",
     "shell.execute_reply": "2023-02-03T14:51:25.709302Z"
    },
    "id": "TycLyIl6nduG",
    "outputId": "26352983-8305-437a-d96b-76abe6056e41",
    "papermill": {
     "duration": 0.048233,
     "end_time": "2023-02-03T14:51:25.714207",
     "exception": false,
     "start_time": "2023-02-03T14:51:25.665974",
     "status": "completed"
    },
    "tags": []
   },
   "outputs": [
    {
     "name": "stdout",
     "output_type": "stream",
     "text": [
      "[[ 0.02626102 -0.02282438  1.81468406]\n",
      " [ 1.54898949 -1.38398722 -1.17834838]\n",
      " [ 2.32527848 -1.38398722 -2.11508055]\n",
      " [-0.74039706 -1.04369651  0.35924552]\n",
      " [-0.48686441  0.31746633 -0.32860424]\n",
      " [-0.21504679 -1.38398722 -0.47438973]\n",
      " [-0.23219168 -0.02282438  0.77566042]\n",
      " [-0.65448945  0.99804775  0.48731122]\n",
      " [-0.78762975  2.01891988  1.01407205]\n",
      " [ 1.06887607 -0.02282438 -0.65642023]]\n"
     ]
    }
   ],
   "source": [
    "np.set_printoptions(suppress=True) \n",
    "print(X_train[:10])"
   ]
  },
  {
   "cell_type": "code",
   "execution_count": 52,
   "id": "bdbeb00d",
   "metadata": {
    "execution": {
     "iopub.execute_input": "2023-02-03T14:51:25.792535Z",
     "iopub.status.busy": "2023-02-03T14:51:25.791731Z",
     "iopub.status.idle": "2023-02-03T14:51:25.797943Z",
     "shell.execute_reply": "2023-02-03T14:51:25.797076Z"
    },
    "id": "myL_dbibGtOZ",
    "outputId": "ad4abf99-f777-4d99-be40-faeddfa1455c",
    "papermill": {
     "duration": 0.048622,
     "end_time": "2023-02-03T14:51:25.800136",
     "exception": false,
     "start_time": "2023-02-03T14:51:25.751514",
     "status": "completed"
    },
    "tags": []
   },
   "outputs": [
    {
     "data": {
      "text/plain": [
       "(328, 3)"
      ]
     },
     "execution_count": 52,
     "metadata": {},
     "output_type": "execute_result"
    }
   ],
   "source": [
    "X_train.shape"
   ]
  },
  {
   "cell_type": "code",
   "execution_count": 53,
   "id": "499f9335",
   "metadata": {
    "execution": {
     "iopub.execute_input": "2023-02-03T14:51:25.875052Z",
     "iopub.status.busy": "2023-02-03T14:51:25.874268Z",
     "iopub.status.idle": "2023-02-03T14:51:25.880490Z",
     "shell.execute_reply": "2023-02-03T14:51:25.879479Z"
    },
    "id": "psTJTXbgGxSO",
    "outputId": "cc662ece-7a6c-443d-cd19-1f3c82f951cf",
    "papermill": {
     "duration": 0.046149,
     "end_time": "2023-02-03T14:51:25.882828",
     "exception": false,
     "start_time": "2023-02-03T14:51:25.836679",
     "status": "completed"
    },
    "tags": []
   },
   "outputs": [
    {
     "data": {
      "text/plain": [
       "(328, 1)"
      ]
     },
     "execution_count": 53,
     "metadata": {},
     "output_type": "execute_result"
    }
   ],
   "source": [
    "y_train.shape"
   ]
  },
  {
   "cell_type": "code",
   "execution_count": 54,
   "id": "90f10e01",
   "metadata": {
    "execution": {
     "iopub.execute_input": "2023-02-03T14:51:25.957548Z",
     "iopub.status.busy": "2023-02-03T14:51:25.956888Z",
     "iopub.status.idle": "2023-02-03T14:51:25.964570Z",
     "shell.execute_reply": "2023-02-03T14:51:25.962986Z"
    },
    "id": "h9W6_qtdnduG",
    "outputId": "2ceaf158-4db5-48e4-f375-bf24a21b3984",
    "papermill": {
     "duration": 0.048204,
     "end_time": "2023-02-03T14:51:25.967513",
     "exception": false,
     "start_time": "2023-02-03T14:51:25.919309",
     "status": "completed"
    },
    "tags": []
   },
   "outputs": [
    {
     "name": "stdout",
     "output_type": "stream",
     "text": [
      "        Y\n",
      "296  34.1\n",
      "307  24.7\n",
      "41   18.2\n",
      "306  50.2\n",
      "139  42.5\n",
      "239  29.7\n",
      "159  37.4\n",
      "23   47.9\n",
      "363  48.0\n",
      "13   23.8\n"
     ]
    }
   ],
   "source": [
    "print(y_train[:10])"
   ]
  },
  {
   "cell_type": "markdown",
   "id": "08880361",
   "metadata": {
    "id": "K0yj_-2owOQj",
    "papermill": {
     "duration": 0.037224,
     "end_time": "2023-02-03T14:51:26.042352",
     "exception": false,
     "start_time": "2023-02-03T14:51:26.005128",
     "status": "completed"
    },
    "tags": []
   },
   "source": [
    "## Linear Regression"
   ]
  },
  {
   "cell_type": "code",
   "execution_count": 55,
   "id": "f1ffc571",
   "metadata": {
    "execution": {
     "iopub.execute_input": "2023-02-03T14:51:26.121709Z",
     "iopub.status.busy": "2023-02-03T14:51:26.120146Z",
     "iopub.status.idle": "2023-02-03T14:51:26.228560Z",
     "shell.execute_reply": "2023-02-03T14:51:26.227257Z"
    },
    "id": "UmFHfl6vnduH",
    "outputId": "5bedebbf-7ad6-4c31-fb61-344b4e01ac83",
    "papermill": {
     "duration": 0.150893,
     "end_time": "2023-02-03T14:51:26.231027",
     "exception": false,
     "start_time": "2023-02-03T14:51:26.080134",
     "status": "completed"
    },
    "tags": []
   },
   "outputs": [
    {
     "data": {
      "text/plain": [
       "LinearRegression()"
      ]
     },
     "execution_count": 55,
     "metadata": {},
     "output_type": "execute_result"
    }
   ],
   "source": [
    "from sklearn.linear_model import LinearRegression\n",
    "model = LinearRegression()\n",
    "model.fit(X_train, y_train)"
   ]
  },
  {
   "cell_type": "code",
   "execution_count": 56,
   "id": "e54e251e",
   "metadata": {
    "execution": {
     "iopub.execute_input": "2023-02-03T14:51:26.309738Z",
     "iopub.status.busy": "2023-02-03T14:51:26.308267Z",
     "iopub.status.idle": "2023-02-03T14:51:26.315471Z",
     "shell.execute_reply": "2023-02-03T14:51:26.313974Z"
    },
    "id": "Ifvp2cgCnduI",
    "papermill": {
     "duration": 0.048848,
     "end_time": "2023-02-03T14:51:26.317948",
     "exception": false,
     "start_time": "2023-02-03T14:51:26.269100",
     "status": "completed"
    },
    "tags": []
   },
   "outputs": [],
   "source": [
    "ypred=model.predict(X_test)"
   ]
  },
  {
   "cell_type": "code",
   "execution_count": 57,
   "id": "0d8baa09",
   "metadata": {
    "execution": {
     "iopub.execute_input": "2023-02-03T14:51:26.394142Z",
     "iopub.status.busy": "2023-02-03T14:51:26.392903Z",
     "iopub.status.idle": "2023-02-03T14:51:26.398141Z",
     "shell.execute_reply": "2023-02-03T14:51:26.397141Z"
    },
    "id": "9EE1tvLKbBmp",
    "papermill": {
     "duration": 0.045893,
     "end_time": "2023-02-03T14:51:26.400511",
     "exception": false,
     "start_time": "2023-02-03T14:51:26.354618",
     "status": "completed"
    },
    "tags": []
   },
   "outputs": [],
   "source": [
    "#mengubah menjadi vertikal matrix nya\n",
    "ypred = ypred.reshape(-1,1)"
   ]
  },
  {
   "cell_type": "code",
   "execution_count": 58,
   "id": "254bd6e5",
   "metadata": {
    "execution": {
     "iopub.execute_input": "2023-02-03T14:51:26.475472Z",
     "iopub.status.busy": "2023-02-03T14:51:26.475055Z",
     "iopub.status.idle": "2023-02-03T14:51:26.483753Z",
     "shell.execute_reply": "2023-02-03T14:51:26.482735Z"
    },
    "id": "e0GqsYb9wOQk",
    "outputId": "59ff6d25-1d7b-4859-867d-f890768b4300",
    "papermill": {
     "duration": 0.049207,
     "end_time": "2023-02-03T14:51:26.486094",
     "exception": false,
     "start_time": "2023-02-03T14:51:26.436887",
     "status": "completed"
    },
    "tags": []
   },
   "outputs": [
    {
     "data": {
      "text/plain": [
       "0.6191822804548149"
      ]
     },
     "metadata": {},
     "output_type": "display_data"
    }
   ],
   "source": [
    "# evaluate model\n",
    "display(model.score(X_test, y_test))"
   ]
  },
  {
   "cell_type": "code",
   "execution_count": 59,
   "id": "5659e924",
   "metadata": {
    "execution": {
     "iopub.execute_input": "2023-02-03T14:51:26.566048Z",
     "iopub.status.busy": "2023-02-03T14:51:26.565415Z",
     "iopub.status.idle": "2023-02-03T14:51:26.569972Z",
     "shell.execute_reply": "2023-02-03T14:51:26.569153Z"
    },
    "id": "oiXHMf62nduI",
    "papermill": {
     "duration": 0.048031,
     "end_time": "2023-02-03T14:51:26.572324",
     "exception": false,
     "start_time": "2023-02-03T14:51:26.524293",
     "status": "completed"
    },
    "tags": []
   },
   "outputs": [],
   "source": [
    "from sklearn.metrics import r2_score\n",
    "from sklearn.metrics import mean_squared_error\n",
    "from sklearn.metrics import mean_squared_error\n",
    "from sklearn.metrics import mean_absolute_error"
   ]
  },
  {
   "cell_type": "markdown",
   "id": "2c99c0ac",
   "metadata": {
    "id": "s9ELuftmwOQm",
    "papermill": {
     "duration": 0.037265,
     "end_time": "2023-02-03T14:51:26.647230",
     "exception": false,
     "start_time": "2023-02-03T14:51:26.609965",
     "status": "completed"
    },
    "tags": []
   },
   "source": [
    "#### MSE"
   ]
  },
  {
   "cell_type": "code",
   "execution_count": 60,
   "id": "c3e1aabb",
   "metadata": {
    "execution": {
     "iopub.execute_input": "2023-02-03T14:51:26.724246Z",
     "iopub.status.busy": "2023-02-03T14:51:26.723609Z",
     "iopub.status.idle": "2023-02-03T14:51:26.735358Z",
     "shell.execute_reply": "2023-02-03T14:51:26.733879Z"
    },
    "id": "xUQ8Bg50nduJ",
    "outputId": "a6ebdb8b-ab37-40a3-df86-98e8e2508a02",
    "papermill": {
     "duration": 0.053192,
     "end_time": "2023-02-03T14:51:26.738087",
     "exception": false,
     "start_time": "2023-02-03T14:51:26.684895",
     "status": "completed"
    },
    "tags": []
   },
   "outputs": [
    {
     "name": "stdout",
     "output_type": "stream",
     "text": [
      "MSE :  65.88\n",
      "MAE :  6.3\n",
      "RMSE :  8.12\n"
     ]
    }
   ],
   "source": [
    "print('MSE : ', mean_squared_error(y_test,ypred).round(2))\n",
    "print('MAE : ', mean_absolute_error(y_test,ypred).round(2))\n",
    "print('RMSE : ', np.sqrt(mean_squared_error(y_test,ypred)).round(2))"
   ]
  },
  {
   "cell_type": "markdown",
   "id": "b22547ce",
   "metadata": {
    "id": "EiAUtWRawOQn",
    "papermill": {
     "duration": 0.038783,
     "end_time": "2023-02-03T14:51:26.813988",
     "exception": false,
     "start_time": "2023-02-03T14:51:26.775205",
     "status": "completed"
    },
    "tags": []
   },
   "source": [
    "#### R-Square"
   ]
  },
  {
   "cell_type": "code",
   "execution_count": 61,
   "id": "12199fb7",
   "metadata": {
    "execution": {
     "iopub.execute_input": "2023-02-03T14:51:26.892704Z",
     "iopub.status.busy": "2023-02-03T14:51:26.891414Z",
     "iopub.status.idle": "2023-02-03T14:51:26.901502Z",
     "shell.execute_reply": "2023-02-03T14:51:26.900492Z"
    },
    "id": "weSvwU5RnduJ",
    "outputId": "117fea55-a64d-4806-8a50-e525d4f3e5f3",
    "papermill": {
     "duration": 0.052371,
     "end_time": "2023-02-03T14:51:26.904091",
     "exception": false,
     "start_time": "2023-02-03T14:51:26.851720",
     "status": "completed"
    },
    "tags": []
   },
   "outputs": [
    {
     "data": {
      "text/plain": [
       "0.62"
      ]
     },
     "execution_count": 61,
     "metadata": {},
     "output_type": "execute_result"
    }
   ],
   "source": [
    "r2_lr = r2_score(y_test,ypred).round(2)\n",
    "r2_lr"
   ]
  },
  {
   "cell_type": "markdown",
   "id": "8b15241d",
   "metadata": {
    "id": "Mvk_LN8DwOQo",
    "papermill": {
     "duration": 0.037397,
     "end_time": "2023-02-03T14:51:26.978977",
     "exception": false,
     "start_time": "2023-02-03T14:51:26.941580",
     "status": "completed"
    },
    "tags": []
   },
   "source": [
    "Key Takeway:\n",
    "\n",
    "This regression model is only able to explain 55% of its data variability, with the remaining 45% being explained by other variables in predicting housing prices. The regression model is considered good if R2 is greater than 75%."
   ]
  },
  {
   "cell_type": "markdown",
   "id": "1d51d6e3",
   "metadata": {
    "id": "B_pbLbrggkDE",
    "papermill": {
     "duration": 0.036304,
     "end_time": "2023-02-03T14:51:27.053163",
     "exception": false,
     "start_time": "2023-02-03T14:51:27.016859",
     "status": "completed"
    },
    "tags": []
   },
   "source": [
    "## Random Forest Regression"
   ]
  },
  {
   "cell_type": "code",
   "execution_count": 62,
   "id": "b6802255",
   "metadata": {
    "execution": {
     "iopub.execute_input": "2023-02-03T14:51:27.131841Z",
     "iopub.status.busy": "2023-02-03T14:51:27.131065Z",
     "iopub.status.idle": "2023-02-03T14:51:27.551523Z",
     "shell.execute_reply": "2023-02-03T14:51:27.549299Z"
    },
    "id": "Z0qrGuVkeIg4",
    "outputId": "88fb310b-501f-4eea-8593-76459d44d3f2",
    "papermill": {
     "duration": 0.463178,
     "end_time": "2023-02-03T14:51:27.554322",
     "exception": false,
     "start_time": "2023-02-03T14:51:27.091144",
     "status": "completed"
    },
    "tags": []
   },
   "outputs": [
    {
     "name": "stderr",
     "output_type": "stream",
     "text": [
      "/opt/conda/lib/python3.7/site-packages/ipykernel_launcher.py:6: DataConversionWarning: A column-vector y was passed when a 1d array was expected. Please change the shape of y to (n_samples,), for example using ravel().\n",
      "  \n"
     ]
    },
    {
     "data": {
      "text/plain": [
       "0.7156824813272102"
      ]
     },
     "metadata": {},
     "output_type": "display_data"
    },
    {
     "name": "stdout",
     "output_type": "stream",
     "text": [
      "MSE :  49.183941042331575\n",
      "MAE :  5.309229580582352\n",
      "RMSE :  7.0131263386831675\n"
     ]
    }
   ],
   "source": [
    "# Random Forest Regressor\n",
    "from sklearn.ensemble import RandomForestRegressor\n",
    "from sklearn.datasets import make_regression\n",
    "\n",
    "model2 = RandomForestRegressor(max_depth=2, random_state=0)\n",
    "model2.fit(X_train, y_train)\n",
    "\n",
    "# evaluate model\n",
    "display(model2.score(X_test, y_test))\n",
    "\n",
    "# use model to predict\n",
    "ypred = model2.predict(X_test)\n",
    "\n",
    "ypred = ypred.reshape(-1,1)\n",
    "\n",
    "print('MSE : ', mean_squared_error(y_test,ypred))\n",
    "print('MAE : ', mean_absolute_error(y_test,ypred))\n",
    "print('RMSE : ', np.sqrt(mean_squared_error(y_test,ypred)))"
   ]
  },
  {
   "cell_type": "markdown",
   "id": "742bee22",
   "metadata": {
    "id": "h86BOchJgw53",
    "papermill": {
     "duration": 0.036484,
     "end_time": "2023-02-03T14:51:27.628124",
     "exception": false,
     "start_time": "2023-02-03T14:51:27.591640",
     "status": "completed"
    },
    "tags": []
   },
   "source": [
    "## Support Vector Regression (SVR)"
   ]
  },
  {
   "cell_type": "code",
   "execution_count": 63,
   "id": "37b38717",
   "metadata": {
    "execution": {
     "iopub.execute_input": "2023-02-03T14:51:27.705250Z",
     "iopub.status.busy": "2023-02-03T14:51:27.704473Z",
     "iopub.status.idle": "2023-02-03T14:51:27.725313Z",
     "shell.execute_reply": "2023-02-03T14:51:27.723708Z"
    },
    "id": "Md0ZINTWe2NV",
    "outputId": "afc7487b-0f1c-42d3-86be-6ef3faab317f",
    "papermill": {
     "duration": 0.062759,
     "end_time": "2023-02-03T14:51:27.727795",
     "exception": false,
     "start_time": "2023-02-03T14:51:27.665036",
     "status": "completed"
    },
    "tags": []
   },
   "outputs": [
    {
     "name": "stderr",
     "output_type": "stream",
     "text": [
      "/opt/conda/lib/python3.7/site-packages/sklearn/utils/validation.py:993: DataConversionWarning: A column-vector y was passed when a 1d array was expected. Please change the shape of y to (n_samples, ), for example using ravel().\n",
      "  y = column_or_1d(y, warn=True)\n"
     ]
    },
    {
     "data": {
      "text/plain": [
       "SVR()"
      ]
     },
     "execution_count": 63,
     "metadata": {},
     "output_type": "execute_result"
    }
   ],
   "source": [
    "from sklearn.svm import SVR\n",
    "model3 = SVR(kernel = 'rbf')\n",
    "model3.fit(X_train, y_train)"
   ]
  },
  {
   "cell_type": "code",
   "execution_count": 64,
   "id": "d52dd049",
   "metadata": {
    "execution": {
     "iopub.execute_input": "2023-02-03T14:51:27.806706Z",
     "iopub.status.busy": "2023-02-03T14:51:27.806239Z",
     "iopub.status.idle": "2023-02-03T14:51:27.827702Z",
     "shell.execute_reply": "2023-02-03T14:51:27.825331Z"
    },
    "id": "gEwKRZCffgUj",
    "outputId": "55ee7f2f-19a2-4798-9adf-ce66f8b1f44c",
    "papermill": {
     "duration": 0.063832,
     "end_time": "2023-02-03T14:51:27.830541",
     "exception": false,
     "start_time": "2023-02-03T14:51:27.766709",
     "status": "completed"
    },
    "tags": []
   },
   "outputs": [
    {
     "data": {
      "text/plain": [
       "0.6339392861178776"
      ]
     },
     "metadata": {},
     "output_type": "display_data"
    },
    {
     "name": "stdout",
     "output_type": "stream",
     "text": [
      "MSE :  63.32465425815911\n",
      "MAE :  5.9900984794024295\n",
      "RMSE :  7.9576789491760165\n"
     ]
    }
   ],
   "source": [
    "# evaluate model\n",
    "display(model3.score(X_test, y_test))\n",
    "\n",
    "# use model to predict\n",
    "ypred = model3.predict(X_test)\n",
    "\n",
    "ypred = ypred.reshape(-1,1)\n",
    "\n",
    "print('MSE : ', mean_squared_error(y_test,ypred))\n",
    "print('MAE : ', mean_absolute_error(y_test,ypred))\n",
    "print('RMSE : ', np.sqrt(mean_squared_error(y_test,ypred)))"
   ]
  },
  {
   "cell_type": "markdown",
   "id": "0b4f9795",
   "metadata": {
    "id": "KQxSd1oML-Y4",
    "papermill": {
     "duration": 0.03798,
     "end_time": "2023-02-03T14:51:27.906952",
     "exception": false,
     "start_time": "2023-02-03T14:51:27.868972",
     "status": "completed"
    },
    "tags": []
   },
   "source": [
    "## Decission Tree Regressor"
   ]
  },
  {
   "cell_type": "code",
   "execution_count": 65,
   "id": "9cf71544",
   "metadata": {
    "execution": {
     "iopub.execute_input": "2023-02-03T14:51:27.985300Z",
     "iopub.status.busy": "2023-02-03T14:51:27.984349Z",
     "iopub.status.idle": "2023-02-03T14:51:27.996114Z",
     "shell.execute_reply": "2023-02-03T14:51:27.995006Z"
    },
    "id": "e7pc8y3OC0NA",
    "outputId": "1c06ac18-5227-4f7c-b7bd-41d9dce6fdf1",
    "papermill": {
     "duration": 0.054241,
     "end_time": "2023-02-03T14:51:27.999181",
     "exception": false,
     "start_time": "2023-02-03T14:51:27.944940",
     "status": "completed"
    },
    "tags": []
   },
   "outputs": [
    {
     "data": {
      "text/plain": [
       "DecisionTreeRegressor(random_state=1)"
      ]
     },
     "execution_count": 65,
     "metadata": {},
     "output_type": "execute_result"
    }
   ],
   "source": [
    "from sklearn.tree import DecisionTreeRegressor\n",
    "model4 = DecisionTreeRegressor(random_state=1)\n",
    "model4.fit(X_train, y_train)"
   ]
  },
  {
   "cell_type": "code",
   "execution_count": 66,
   "id": "e420d0be",
   "metadata": {
    "execution": {
     "iopub.execute_input": "2023-02-03T14:51:28.078791Z",
     "iopub.status.busy": "2023-02-03T14:51:28.078204Z",
     "iopub.status.idle": "2023-02-03T14:51:28.095131Z",
     "shell.execute_reply": "2023-02-03T14:51:28.094223Z"
    },
    "id": "iq1rCu3PDUNJ",
    "outputId": "51409798-d994-4f49-92cc-d3664825093f",
    "papermill": {
     "duration": 0.060188,
     "end_time": "2023-02-03T14:51:28.097635",
     "exception": false,
     "start_time": "2023-02-03T14:51:28.037447",
     "status": "completed"
    },
    "tags": []
   },
   "outputs": [
    {
     "data": {
      "text/plain": [
       "0.46441864463795346"
      ]
     },
     "metadata": {},
     "output_type": "display_data"
    },
    {
     "name": "stdout",
     "output_type": "stream",
     "text": [
      "MSE :  92.64994267136572\n",
      "MAE :  7.426356855995412\n",
      "RMSE :  9.625484022705857\n"
     ]
    }
   ],
   "source": [
    "# evaluate model\n",
    "display(model4.score(X_test, y_test))\n",
    "\n",
    "# use model to predict\n",
    "ypred = model4.predict(X_test)\n",
    "\n",
    "ypred = ypred.reshape(-1,1)\n",
    "\n",
    "print('MSE : ', mean_squared_error(y_test,ypred))\n",
    "print('MAE : ', mean_absolute_error(y_test,ypred))\n",
    "print('RMSE : ', np.sqrt(mean_squared_error(y_test,ypred)))"
   ]
  },
  {
   "cell_type": "markdown",
   "id": "cbc29b76",
   "metadata": {
    "id": "qsyXaADMjtoG",
    "papermill": {
     "duration": 0.037332,
     "end_time": "2023-02-03T14:51:28.174835",
     "exception": false,
     "start_time": "2023-02-03T14:51:28.137503",
     "status": "completed"
    },
    "tags": []
   },
   "source": [
    "## Model Comparison"
   ]
  },
  {
   "cell_type": "code",
   "execution_count": 67,
   "id": "866d304e",
   "metadata": {
    "execution": {
     "iopub.execute_input": "2023-02-03T14:51:28.254500Z",
     "iopub.status.busy": "2023-02-03T14:51:28.253960Z",
     "iopub.status.idle": "2023-02-03T14:51:28.283010Z",
     "shell.execute_reply": "2023-02-03T14:51:28.280982Z"
    },
    "id": "kdemK05xMTTo",
    "outputId": "5f9874aa-e607-46bd-91fc-cf007f8a1b80",
    "papermill": {
     "duration": 0.074268,
     "end_time": "2023-02-03T14:51:28.286404",
     "exception": false,
     "start_time": "2023-02-03T14:51:28.212136",
     "status": "completed"
    },
    "tags": []
   },
   "outputs": [
    {
     "name": "stdout",
     "output_type": "stream",
     "text": [
      "Model RF :  0.7156824813272102\n",
      "Model SVR :  0.6339392861178776\n",
      "Regresi Linear :  0.6191822804548149\n",
      "Model DTR :  0.46441864463795346\n"
     ]
    }
   ],
   "source": [
    "print('Model RF : ', model2.score(X_test, y_test))\n",
    "print('Model SVR : ', model3.score(X_test, y_test))\n",
    "print('Regresi Linear : ', model.score(X_test, y_test))\n",
    "print('Model DTR : ', (model4.score(X_test, y_test)))"
   ]
  },
  {
   "cell_type": "markdown",
   "id": "ab57bc15",
   "metadata": {
    "id": "QWu2TTwVMEsE",
    "papermill": {
     "duration": 0.03814,
     "end_time": "2023-02-03T14:51:28.363960",
     "exception": false,
     "start_time": "2023-02-03T14:51:28.325820",
     "status": "completed"
    },
    "tags": []
   },
   "source": [
    "Model RF > Model SVR > Regresi Linear > Model DTR"
   ]
  },
  {
   "cell_type": "markdown",
   "id": "cf7c9dd5",
   "metadata": {
    "id": "uyqQQIrIj-Zh",
    "papermill": {
     "duration": 0.037321,
     "end_time": "2023-02-03T14:51:28.440845",
     "exception": false,
     "start_time": "2023-02-03T14:51:28.403524",
     "status": "completed"
    },
    "tags": []
   },
   "source": [
    "# 5. Conclusion"
   ]
  },
  {
   "cell_type": "markdown",
   "id": "b0d6db4e",
   "metadata": {
    "id": "C6C4FlDYkFGL",
    "papermill": {
     "duration": 0.037668,
     "end_time": "2023-02-03T14:51:28.517843",
     "exception": false,
     "start_time": "2023-02-03T14:51:28.480175",
     "status": "completed"
    },
    "tags": []
   },
   "source": [
    "The best accuracy model from the four models is the Random Forest Regression Model because it has a higher model accuracy (R-Square = 0.71) compared to the other models. In addition, the SVR model has the lowest error rate among the other models. Therefore, the SVR model is able to predict the price of a house well.\n"
   ]
  },
  {
   "cell_type": "code",
   "execution_count": 68,
   "id": "6a227673",
   "metadata": {
    "execution": {
     "iopub.execute_input": "2023-02-03T14:51:28.597456Z",
     "iopub.status.busy": "2023-02-03T14:51:28.597018Z",
     "iopub.status.idle": "2023-02-03T14:51:28.614477Z",
     "shell.execute_reply": "2023-02-03T14:51:28.613283Z"
    },
    "id": "JtJhF-mkUv-S",
    "outputId": "cc661065-a5c7-44c3-bba6-206865e8625c",
    "papermill": {
     "duration": 0.060233,
     "end_time": "2023-02-03T14:51:28.617105",
     "exception": false,
     "start_time": "2023-02-03T14:51:28.556872",
     "status": "completed"
    },
    "tags": []
   },
   "outputs": [
    {
     "data": {
      "text/plain": [
       "array([26.91877443])"
      ]
     },
     "execution_count": 68,
     "metadata": {},
     "output_type": "execute_result"
    }
   ],
   "source": [
    "#Sample Prediction\n",
    "\n",
    "model2.predict([[85, 10, 25]])"
   ]
  }
 ],
 "metadata": {
  "kernelspec": {
   "display_name": "Python 3",
   "language": "python",
   "name": "python3"
  },
  "language_info": {
   "codemirror_mode": {
    "name": "ipython",
    "version": 3
   },
   "file_extension": ".py",
   "mimetype": "text/x-python",
   "name": "python",
   "nbconvert_exporter": "python",
   "pygments_lexer": "ipython3",
   "version": "3.7.12"
  },
  "papermill": {
   "default_parameters": {},
   "duration": 27.98017,
   "end_time": "2023-02-03T14:51:29.680145",
   "environment_variables": {},
   "exception": null,
   "input_path": "__notebook__.ipynb",
   "output_path": "__notebook__.ipynb",
   "parameters": {},
   "start_time": "2023-02-03T14:51:01.699975",
   "version": "2.3.4"
  }
 },
 "nbformat": 4,
 "nbformat_minor": 5
}
